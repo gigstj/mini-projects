{
 "cells": [
  {
   "cell_type": "markdown",
   "id": "721add38",
   "metadata": {},
   "source": [
    "# Data Scientist Salary Data Collection and Analysis"
   ]
  },
  {
   "cell_type": "markdown",
   "id": "defe7112",
   "metadata": {},
   "source": [
    "## Setup"
   ]
  },
  {
   "cell_type": "markdown",
   "id": "a2c09b8d",
   "metadata": {},
   "source": [
    "<u> dependencies </u>  \n",
    "python version 3.9.12  \n",
    "selenium version 4.9.0  \n",
    "beautifulsoup4 version 4.11.1  \n",
    "numpy version 1.21.5  \n",
    "pandas version 1.4.2  \n",
    "regex version 2022.3.15"
   ]
  },
  {
   "cell_type": "markdown",
   "id": "2d981a5f",
   "metadata": {},
   "source": [
    "- might need to log into glassdoor and submit a review to gain access\n",
    "- selenium package must be installed and chrome web driver configured"
   ]
  },
  {
   "cell_type": "markdown",
   "id": "76bdf163",
   "metadata": {},
   "source": [
    "## Data Collection"
   ]
  },
  {
   "cell_type": "code",
   "execution_count": 1,
   "id": "d768d1ed",
   "metadata": {},
   "outputs": [],
   "source": [
    "# selenium and beautiful soup packages are used for web scraping\n",
    "from selenium import webdriver\n",
    "from selenium.webdriver.chrome.service import Service\n",
    "from bs4 import BeautifulSoup\n",
    "\n",
    "# common packages\n",
    "import numpy as np\n",
    "import pandas as pd\n",
    "import re"
   ]
  },
  {
   "cell_type": "code",
   "execution_count": 2,
   "id": "7df54cdf",
   "metadata": {},
   "outputs": [],
   "source": [
    "# initialize an empty dataframe that will be used to store the data collected from glassdoor salary postings\n",
    "salaryDataframe = pd.DataFrame(\n",
    "    columns = [\"companyName\", \"companyRating\", \"position\", \"sampleSize\", \"openJobs\", \"salaryLow\", \"salaryMid\", \"salaryHigh\"]\n",
    ")"
   ]
  },
  {
   "cell_type": "markdown",
   "id": "2bc31930",
   "metadata": {},
   "source": [
    "The following code chunk contains a program that will automatically collect data from thousands of glassdoor salary postings for data scientist positions. Each salary posting is the aggregate of one or more submissions made by users who provided salary information to glassdoor.\n",
    "\n",
    "*Note: this will take some time to run. It may take up to one hour or more.*\n",
    "\n",
    "Before running the program, there are couple of things to check.\n",
    "- Set the \"maxPageNum\" variable accordingly. It should be set to the number of glassdoor search results divided by 20 plus 1. For example, in this case, the number of search results is 9,360. So 9,360 / 20 = 468 and 468 + 1 = 469.\n",
    "- Set the \"chromeDriverPath\" variable accordingly. It should be set to the file path to where the chromedriver.exe file is located on the machine. This would be determined during chromedriver configuration."
   ]
  },
  {
   "cell_type": "code",
   "execution_count": 3,
   "id": "7359d0b7",
   "metadata": {},
   "outputs": [],
   "source": [
    "# set the maxPageNum variable\n",
    "maxPageNum = 469"
   ]
  },
  {
   "cell_type": "code",
   "execution_count": 4,
   "id": "7b4d8302",
   "metadata": {},
   "outputs": [],
   "source": [
    "# set the chromeDriverPath variable\n",
    "chromeDriverPath = \"C:\\Program Files (x86)\\chromedriver.exe\""
   ]
  },
  {
   "cell_type": "code",
   "execution_count": 5,
   "id": "87364d59",
   "metadata": {},
   "outputs": [],
   "source": [
    "# iterate through the glassdoor salary pages and collect the data\n",
    "for pageNum in list(range(1, maxPageNum, 1)):\n",
    "\n",
    "    # generate the link for the page dynamically\n",
    "    link = \"https://www.glassdoor.com/Salaries/data-scientist-salary-SRCH_KO0,14_IP\" + str(pageNum) + \".htm\"\n",
    "    \n",
    "    # configure the chrome web driver and start up chrome instance\n",
    "    service = Service(chromeDriverPath)\n",
    "    options = webdriver.ChromeOptions()\n",
    "    driver = webdriver.Chrome(service=service, options=options)\n",
    "\n",
    "    # navigate to the web page in the selenium chrome window\n",
    "    driver.get(link)\n",
    "\n",
    "    # capture the raw html code for the web page\n",
    "    html = driver.page_source\n",
    "\n",
    "    # initialize a bs object with the html code\n",
    "    soup = BeautifulSoup(html, \"html.parser\")\n",
    "\n",
    "    # filter on the employerStats chunk of html code\n",
    "    # this tag contains a portion of the targeted information\n",
    "    soup_employerStats = soup.find_all(\"div\", class_=\"employerStats\")\n",
    "\n",
    "    # filter on the rangeBar chunk of html code\n",
    "    # this tag contains another portion of targeted information\n",
    "    soup_rangeBar = soup.find_all(\"div\", class_=\"col-12 col-lg-6 order-1 order-md-2 order-lg-1 pt-xl pt-lg-0\")\n",
    "\n",
    "    # extract company names\n",
    "    companies = []\n",
    "    for soup in soup_employerStats:\n",
    "        company = soup.find(\"a\", class_=\"css-1ikln7a el6ke052\")\n",
    "        companies.append(company.text)\n",
    "\n",
    "    # extract company ratings\n",
    "    ratings = []\n",
    "    for soup in soup_employerStats:\n",
    "        rating = soup.find(\"span\", class_=\"css-h9sogr m-0 css-60s9ld el6ke050\")\n",
    "        \n",
    "        # ratings do not exist for every posting so must handle cases when there is no rating\n",
    "        try:\n",
    "            ratings.append(rating.text)\n",
    "        except AttributeError:\n",
    "            ratings.append(\"-1\") # temp value to indicate there is no rating\n",
    "\n",
    "    # parse string and convert to float data type\n",
    "    ratings = [float(re.sub(\",\", \"\", rating)) for rating in ratings] # remove commas and convert to float\n",
    "\n",
    "    # extract position names\n",
    "    positions = []\n",
    "    for soup in soup_employerStats:\n",
    "        position = soup.find(\"span\", class_=\"d-flex align-items-middle css-1in2cw4 el6ke050\")\n",
    "        positions.append(position.text)\n",
    "\n",
    "    # extract sample sizes\n",
    "    sampleSizes = []\n",
    "    for soup in soup_employerStats:\n",
    "        sampleSize = soup.find(\"a\", class_=\"m-0 d-flex css-259095 e1aj7ssy6\")\n",
    "        sampleSizes.append(sampleSize.text)\n",
    "\n",
    "    # parse string and convert to integer data type\n",
    "    sampleSizes = [re.sub(\"See\\s\", \"\", sampleSize) for sampleSize in sampleSizes] # remove text\n",
    "    sampleSizes = [re.sub(\"\\ssalaries\\sfrom\\sall\\slocations\", \"\", sampleSize) for sampleSize in sampleSizes] # remove text\n",
    "    sampleSizes = [int(re.sub(\",\", \"\", sampleSize)) for sampleSize in sampleSizes] # remove commas and convert to int\n",
    "\n",
    "    # extract open job counts\n",
    "    openJobCounts = []\n",
    "    for soup in soup_employerStats:\n",
    "        openJobCount = soup.find(\"a\", class_=\"css-259095 e1aj7ssy6\")\n",
    "\n",
    "        # open job counts do not exist for every posting so must handle cases when there is no open job count\n",
    "        try:\n",
    "            openJobCounts.append(openJobCount.text)\n",
    "        except AttributeError:\n",
    "            openJobCounts.append(\"-1\") # temp value to indicate there is no open job count\n",
    "\n",
    "    # parse string and convert to integer data type\n",
    "    openJobCounts = [re.sub(\"\\sopen\\sjobs\", \"\", openJobCount) for openJobCount in openJobCounts] # remove text\n",
    "    openJobCounts = [int(re.sub(\",\", \"\", openJobCount)) for openJobCount in openJobCounts] # remove commas and convert to int\n",
    "\n",
    "    # extract salary ranges\n",
    "    salaryRanges = []\n",
    "    for salaryRange in soup_rangeBar:\n",
    "        salaryRanges.append(re.findall(\"\\$[0-9,K]*\", salaryRange.text))\n",
    "\n",
    "    # parse the salary lows\n",
    "    salaryLows = []\n",
    "    for salaryRange in salaryRanges:\n",
    "        salaryLow = re.sub(\"\\$\", \"\", salaryRange[1]) # remove dollar signs\n",
    "        salaryLow = re.sub(\",\", \"\", salaryLow) # remove commas\n",
    "        salaryLow = re.sub(\"K\", \"000\", salaryLow) # replace \"K\" with three zeros\n",
    "        salaryLows.append(int(salaryLow)) # convert to int and append to list\n",
    "\n",
    "    # parse the salary mids\n",
    "    salaryMids = []\n",
    "    for salaryRange in salaryRanges:\n",
    "        salaryMid = re.sub(\"\\$\", \"\", salaryRange[0]) # remove dollar signs\n",
    "        salaryMid = re.sub(\",\", \"\", salaryMid) # remove commas\n",
    "        salaryMid = re.sub(\"K\", \"000\", salaryMid) # replace \"K\" with three zeros\n",
    "        salaryMids.append(int(salaryMid)) # convert to int and append to list\n",
    "\n",
    "    # parse the salary highs\n",
    "    salaryHighs = []\n",
    "    for salaryRange in salaryRanges:\n",
    "        salaryHigh = re.sub(\"\\$\", \"\", salaryRange[2]) # remove dollar signs\n",
    "        salaryHigh = re.sub(\",\", \"\", salaryHigh) # remove commas\n",
    "        salaryHigh = re.sub(\"K\", \"000\", salaryHigh) # replace \"K\" with three zeros\n",
    "        salaryHighs.append(int(salaryHigh)) # convert to int and append to list\n",
    "\n",
    "    # close out the driver\n",
    "    driver.quit()\n",
    "    \n",
    "    # put together the data in a pandas dataframe\n",
    "    df = pd.DataFrame(\n",
    "        list(zip(companies, ratings, positions, sampleSizes, openJobCounts, salaryLows, salaryMids, salaryHighs)),\n",
    "        columns =[\"companyName\", \"companyRating\", \"position\", \"sampleSize\", \"openJobs\", \"salaryLow\", \"salaryMid\", \"salaryHigh\"]\n",
    "    )\n",
    "    \n",
    "    # append the data from this instance to the cumulative dataframe\n",
    "    salaryDataframe = pd.concat([salaryDataframe, df], ignore_index = True)"
   ]
  },
  {
   "cell_type": "code",
   "execution_count": 6,
   "id": "c0191cdc",
   "metadata": {},
   "outputs": [
    {
     "data": {
      "text/html": [
       "<div>\n",
       "<style scoped>\n",
       "    .dataframe tbody tr th:only-of-type {\n",
       "        vertical-align: middle;\n",
       "    }\n",
       "\n",
       "    .dataframe tbody tr th {\n",
       "        vertical-align: top;\n",
       "    }\n",
       "\n",
       "    .dataframe thead th {\n",
       "        text-align: right;\n",
       "    }\n",
       "</style>\n",
       "<table border=\"1\" class=\"dataframe\">\n",
       "  <thead>\n",
       "    <tr style=\"text-align: right;\">\n",
       "      <th></th>\n",
       "      <th>companyName</th>\n",
       "      <th>companyRating</th>\n",
       "      <th>position</th>\n",
       "      <th>sampleSize</th>\n",
       "      <th>openJobs</th>\n",
       "      <th>salaryLow</th>\n",
       "      <th>salaryMid</th>\n",
       "      <th>salaryHigh</th>\n",
       "    </tr>\n",
       "  </thead>\n",
       "  <tbody>\n",
       "    <tr>\n",
       "      <th>0</th>\n",
       "      <td>Meta</td>\n",
       "      <td>3.9</td>\n",
       "      <td>Data Scientist</td>\n",
       "      <td>1499</td>\n",
       "      <td>722</td>\n",
       "      <td>200000</td>\n",
       "      <td>247842</td>\n",
       "      <td>313000</td>\n",
       "    </tr>\n",
       "    <tr>\n",
       "      <th>1</th>\n",
       "      <td>Ascendum Solutions</td>\n",
       "      <td>4.4</td>\n",
       "      <td>Data Scientist</td>\n",
       "      <td>602</td>\n",
       "      <td>-1</td>\n",
       "      <td>105000</td>\n",
       "      <td>129784</td>\n",
       "      <td>162000</td>\n",
       "    </tr>\n",
       "    <tr>\n",
       "      <th>2</th>\n",
       "      <td>IBM</td>\n",
       "      <td>3.9</td>\n",
       "      <td>Data Scientist</td>\n",
       "      <td>585</td>\n",
       "      <td>5764</td>\n",
       "      <td>126000</td>\n",
       "      <td>155882</td>\n",
       "      <td>195000</td>\n",
       "    </tr>\n",
       "    <tr>\n",
       "      <th>3</th>\n",
       "      <td>Google</td>\n",
       "      <td>4.4</td>\n",
       "      <td>Data Scientist</td>\n",
       "      <td>538</td>\n",
       "      <td>1598</td>\n",
       "      <td>188000</td>\n",
       "      <td>235591</td>\n",
       "      <td>301000</td>\n",
       "    </tr>\n",
       "    <tr>\n",
       "      <th>4</th>\n",
       "      <td>Amazon</td>\n",
       "      <td>3.7</td>\n",
       "      <td>Data Scientist</td>\n",
       "      <td>519</td>\n",
       "      <td>12652</td>\n",
       "      <td>164000</td>\n",
       "      <td>203114</td>\n",
       "      <td>257000</td>\n",
       "    </tr>\n",
       "    <tr>\n",
       "      <th>...</th>\n",
       "      <td>...</td>\n",
       "      <td>...</td>\n",
       "      <td>...</td>\n",
       "      <td>...</td>\n",
       "      <td>...</td>\n",
       "      <td>...</td>\n",
       "      <td>...</td>\n",
       "      <td>...</td>\n",
       "    </tr>\n",
       "    <tr>\n",
       "      <th>9197</th>\n",
       "      <td>All American Healthcare</td>\n",
       "      <td>3.1</td>\n",
       "      <td>Data Scientist</td>\n",
       "      <td>1</td>\n",
       "      <td>13433</td>\n",
       "      <td>96000</td>\n",
       "      <td>119336</td>\n",
       "      <td>150000</td>\n",
       "    </tr>\n",
       "    <tr>\n",
       "      <th>9198</th>\n",
       "      <td>Designer Brands</td>\n",
       "      <td>3.7</td>\n",
       "      <td>Data Scientist</td>\n",
       "      <td>1</td>\n",
       "      <td>42</td>\n",
       "      <td>108000</td>\n",
       "      <td>131418</td>\n",
       "      <td>161000</td>\n",
       "    </tr>\n",
       "    <tr>\n",
       "      <th>9199</th>\n",
       "      <td>Ascent (UK)</td>\n",
       "      <td>4.5</td>\n",
       "      <td>Data Scientist</td>\n",
       "      <td>1</td>\n",
       "      <td>-1</td>\n",
       "      <td>107000</td>\n",
       "      <td>133588</td>\n",
       "      <td>168000</td>\n",
       "    </tr>\n",
       "    <tr>\n",
       "      <th>9200</th>\n",
       "      <td>Mr. John Portable Toilet Rental</td>\n",
       "      <td>4.4</td>\n",
       "      <td>Data Scientist</td>\n",
       "      <td>1</td>\n",
       "      <td>4</td>\n",
       "      <td>10000</td>\n",
       "      <td>11835</td>\n",
       "      <td>15000</td>\n",
       "    </tr>\n",
       "    <tr>\n",
       "      <th>9201</th>\n",
       "      <td>LexisNexis Legal &amp; Professional</td>\n",
       "      <td>3.9</td>\n",
       "      <td>Data Scientist I</td>\n",
       "      <td>1</td>\n",
       "      <td>260</td>\n",
       "      <td>104000</td>\n",
       "      <td>123496</td>\n",
       "      <td>148000</td>\n",
       "    </tr>\n",
       "  </tbody>\n",
       "</table>\n",
       "<p>9202 rows × 8 columns</p>\n",
       "</div>"
      ],
      "text/plain": [
       "                          companyName companyRating          position  \\\n",
       "0                                Meta           3.9    Data Scientist   \n",
       "1                  Ascendum Solutions           4.4    Data Scientist   \n",
       "2                                 IBM           3.9    Data Scientist   \n",
       "3                              Google           4.4    Data Scientist   \n",
       "4                              Amazon           3.7    Data Scientist   \n",
       "...                               ...           ...               ...   \n",
       "9197          All American Healthcare           3.1    Data Scientist   \n",
       "9198                  Designer Brands           3.7    Data Scientist   \n",
       "9199                      Ascent (UK)           4.5    Data Scientist   \n",
       "9200  Mr. John Portable Toilet Rental           4.4    Data Scientist   \n",
       "9201  LexisNexis Legal & Professional           3.9  Data Scientist I   \n",
       "\n",
       "     sampleSize openJobs salaryLow salaryMid salaryHigh  \n",
       "0          1499      722    200000    247842     313000  \n",
       "1           602       -1    105000    129784     162000  \n",
       "2           585     5764    126000    155882     195000  \n",
       "3           538     1598    188000    235591     301000  \n",
       "4           519    12652    164000    203114     257000  \n",
       "...         ...      ...       ...       ...        ...  \n",
       "9197          1    13433     96000    119336     150000  \n",
       "9198          1       42    108000    131418     161000  \n",
       "9199          1       -1    107000    133588     168000  \n",
       "9200          1        4     10000     11835      15000  \n",
       "9201          1      260    104000    123496     148000  \n",
       "\n",
       "[9202 rows x 8 columns]"
      ]
     },
     "execution_count": 6,
     "metadata": {},
     "output_type": "execute_result"
    }
   ],
   "source": [
    "salaryDataframe"
   ]
  },
  {
   "cell_type": "markdown",
   "id": "0c6d56db",
   "metadata": {},
   "source": [
    "**companyName**: the name of the company listed in the salary posting  \n",
    "**companyRating**: represents the average rating among the submissions in the sample  \n",
    "**position**: the name of the position listed in the salary posting  \n",
    "**sampleSize**: the number of submissions that comprise the salary posting data  \n",
    "**openJobs**: current number of open jobs at the company  \n",
    "**salaryLow**: low point of the range bar in the distribution of salaries  \n",
    "**salaryMid**: mid point of the range bar in the distribution of salaries  \n",
    "**salaryHigh**: high point of the range bar in the distribution of salaries"
   ]
  },
  {
   "cell_type": "markdown",
   "id": "6f8c4f39",
   "metadata": {},
   "source": [
    "## Data Cleansing"
   ]
  },
  {
   "cell_type": "markdown",
   "id": "1c5c2498",
   "metadata": {},
   "source": [
    "For salary postings where there was no company rating available, a temporary value of -1 was put in place in the rating column. Now, these -1 values will be replaced with a value of NA to indicate that there was no data available."
   ]
  },
  {
   "cell_type": "code",
   "execution_count": 7,
   "id": "3e42038f",
   "metadata": {},
   "outputs": [],
   "source": [
    "# convert the company rating values of -1 to NA\n",
    "salaryDataframe.companyRating = salaryDataframe.companyRating.replace(-1, None)"
   ]
  },
  {
   "cell_type": "code",
   "execution_count": 8,
   "id": "7dc0b6ad",
   "metadata": {},
   "outputs": [
    {
     "data": {
      "text/plain": [
       "1.0     29\n",
       "1.2      2\n",
       "1.4      1\n",
       "1.5      2\n",
       "1.6      6\n",
       "1.7      5\n",
       "1.8      1\n",
       "1.9      3\n",
       "2.0     24\n",
       "2.1     10\n",
       "2.2     17\n",
       "2.3     16\n",
       "2.4     36\n",
       "2.5     32\n",
       "2.6     47\n",
       "2.7     65\n",
       "2.8     92\n",
       "2.9    149\n",
       "3.0    206\n",
       "3.1    231\n",
       "3.2    258\n",
       "3.3    302\n",
       "3.4    432\n",
       "3.5    469\n",
       "3.6    580\n",
       "3.7    644\n",
       "3.8    715\n",
       "3.9    754\n",
       "4.0    779\n",
       "4.1    649\n",
       "4.2    573\n",
       "4.3    399\n",
       "4.4    306\n",
       "4.5    243\n",
       "4.6    159\n",
       "4.7    116\n",
       "4.8    103\n",
       "4.9     45\n",
       "5.0    371\n",
       "NaN    331\n",
       "Name: companyRating, dtype: int64"
      ]
     },
     "execution_count": 8,
     "metadata": {},
     "output_type": "execute_result"
    }
   ],
   "source": [
    "# inspect the distribution of company rating values\n",
    "salaryDataframe.companyRating.value_counts(dropna = False).sort_index(ascending=True)"
   ]
  },
  {
   "cell_type": "markdown",
   "id": "280b1e34",
   "metadata": {},
   "source": [
    "For salary postings where there was no open job count available, a temporary value of -1 was put in place in the open job count column. Now, these -1 values will be replaced with a value of NA to indicate that there was no data available."
   ]
  },
  {
   "cell_type": "code",
   "execution_count": 9,
   "id": "73f6b387",
   "metadata": {},
   "outputs": [],
   "source": [
    "# convert the open job count values of -1 to NA\n",
    "salaryDataframe.openJobs = salaryDataframe.openJobs.replace(-1, None)"
   ]
  },
  {
   "cell_type": "code",
   "execution_count": 10,
   "id": "0d07915c",
   "metadata": {},
   "outputs": [
    {
     "data": {
      "text/plain": [
       "2.0          243\n",
       "3.0          221\n",
       "4.0          182\n",
       "5.0          148\n",
       "6.0          130\n",
       "            ... \n",
       "51410.0        1\n",
       "84157.0        1\n",
       "100459.0       1\n",
       "108467.0       1\n",
       "NaN         3632\n",
       "Name: openJobs, Length: 1184, dtype: int64"
      ]
     },
     "execution_count": 10,
     "metadata": {},
     "output_type": "execute_result"
    }
   ],
   "source": [
    "# inspect the distribution of open job count values\n",
    "salaryDataframe.openJobs.value_counts(dropna = False).sort_index(ascending=True)"
   ]
  },
  {
   "cell_type": "markdown",
   "id": "c349ceb1",
   "metadata": {},
   "source": [
    "Even though the search in glass door was for \"Data Scientist\" positions, not all of the positions returned are exactly \"Data Scientist\". Next, this will be further examined."
   ]
  },
  {
   "cell_type": "code",
   "execution_count": 11,
   "id": "354b176e",
   "metadata": {},
   "outputs": [
    {
     "data": {
      "text/plain": [
       "Data Scientist         7854\n",
       "Data Science           1233\n",
       "Data Scientist I        101\n",
       "Cientista De Dados        6\n",
       "Data Scientist/           3\n",
       "Científico De Datos       2\n",
       "ET Data Scientist         1\n",
       "Data Scientist,           1\n",
       " Data Scientist           1\n",
       "Name: position, dtype: int64"
      ]
     },
     "execution_count": 11,
     "metadata": {},
     "output_type": "execute_result"
    }
   ],
   "source": [
    "# look at the different names of positions\n",
    "salaryDataframe.position.value_counts(dropna = False)"
   ]
  },
  {
   "cell_type": "markdown",
   "id": "2eb43af8",
   "metadata": {},
   "source": [
    "As seen above, the majority of positions are \"Data Scientist\", but there are some that are not. Should the records with other position names be kept in the dataset or removed from the dataset?"
   ]
  },
  {
   "cell_type": "markdown",
   "id": "549cbc38",
   "metadata": {},
   "source": [
    "There are a small handfull of odd position names. These will simply be removed from the dataset, leaving only the \"Data Science\" and \"Data Scientist I\" positions in question."
   ]
  },
  {
   "cell_type": "code",
   "execution_count": 12,
   "id": "0e760216",
   "metadata": {},
   "outputs": [
    {
     "data": {
      "text/html": [
       "<div>\n",
       "<style scoped>\n",
       "    .dataframe tbody tr th:only-of-type {\n",
       "        vertical-align: middle;\n",
       "    }\n",
       "\n",
       "    .dataframe tbody tr th {\n",
       "        vertical-align: top;\n",
       "    }\n",
       "\n",
       "    .dataframe thead th {\n",
       "        text-align: right;\n",
       "    }\n",
       "</style>\n",
       "<table border=\"1\" class=\"dataframe\">\n",
       "  <thead>\n",
       "    <tr style=\"text-align: right;\">\n",
       "      <th></th>\n",
       "      <th>companyName</th>\n",
       "      <th>companyRating</th>\n",
       "      <th>position</th>\n",
       "      <th>sampleSize</th>\n",
       "      <th>openJobs</th>\n",
       "      <th>salaryLow</th>\n",
       "      <th>salaryMid</th>\n",
       "      <th>salaryHigh</th>\n",
       "    </tr>\n",
       "  </thead>\n",
       "  <tbody>\n",
       "    <tr>\n",
       "      <th>0</th>\n",
       "      <td>Meta</td>\n",
       "      <td>3.9</td>\n",
       "      <td>Data Scientist</td>\n",
       "      <td>1499</td>\n",
       "      <td>722</td>\n",
       "      <td>200000</td>\n",
       "      <td>247842</td>\n",
       "      <td>313000</td>\n",
       "    </tr>\n",
       "    <tr>\n",
       "      <th>1</th>\n",
       "      <td>Ascendum Solutions</td>\n",
       "      <td>4.4</td>\n",
       "      <td>Data Scientist</td>\n",
       "      <td>602</td>\n",
       "      <td>None</td>\n",
       "      <td>105000</td>\n",
       "      <td>129784</td>\n",
       "      <td>162000</td>\n",
       "    </tr>\n",
       "    <tr>\n",
       "      <th>2</th>\n",
       "      <td>IBM</td>\n",
       "      <td>3.9</td>\n",
       "      <td>Data Scientist</td>\n",
       "      <td>585</td>\n",
       "      <td>5764</td>\n",
       "      <td>126000</td>\n",
       "      <td>155882</td>\n",
       "      <td>195000</td>\n",
       "    </tr>\n",
       "    <tr>\n",
       "      <th>3</th>\n",
       "      <td>Google</td>\n",
       "      <td>4.4</td>\n",
       "      <td>Data Scientist</td>\n",
       "      <td>538</td>\n",
       "      <td>1598</td>\n",
       "      <td>188000</td>\n",
       "      <td>235591</td>\n",
       "      <td>301000</td>\n",
       "    </tr>\n",
       "    <tr>\n",
       "      <th>4</th>\n",
       "      <td>Amazon</td>\n",
       "      <td>3.7</td>\n",
       "      <td>Data Scientist</td>\n",
       "      <td>519</td>\n",
       "      <td>12652</td>\n",
       "      <td>164000</td>\n",
       "      <td>203114</td>\n",
       "      <td>257000</td>\n",
       "    </tr>\n",
       "    <tr>\n",
       "      <th>...</th>\n",
       "      <td>...</td>\n",
       "      <td>...</td>\n",
       "      <td>...</td>\n",
       "      <td>...</td>\n",
       "      <td>...</td>\n",
       "      <td>...</td>\n",
       "      <td>...</td>\n",
       "      <td>...</td>\n",
       "    </tr>\n",
       "    <tr>\n",
       "      <th>9197</th>\n",
       "      <td>All American Healthcare</td>\n",
       "      <td>3.1</td>\n",
       "      <td>Data Scientist</td>\n",
       "      <td>1</td>\n",
       "      <td>13433</td>\n",
       "      <td>96000</td>\n",
       "      <td>119336</td>\n",
       "      <td>150000</td>\n",
       "    </tr>\n",
       "    <tr>\n",
       "      <th>9198</th>\n",
       "      <td>Designer Brands</td>\n",
       "      <td>3.7</td>\n",
       "      <td>Data Scientist</td>\n",
       "      <td>1</td>\n",
       "      <td>42</td>\n",
       "      <td>108000</td>\n",
       "      <td>131418</td>\n",
       "      <td>161000</td>\n",
       "    </tr>\n",
       "    <tr>\n",
       "      <th>9199</th>\n",
       "      <td>Ascent (UK)</td>\n",
       "      <td>4.5</td>\n",
       "      <td>Data Scientist</td>\n",
       "      <td>1</td>\n",
       "      <td>None</td>\n",
       "      <td>107000</td>\n",
       "      <td>133588</td>\n",
       "      <td>168000</td>\n",
       "    </tr>\n",
       "    <tr>\n",
       "      <th>9200</th>\n",
       "      <td>Mr. John Portable Toilet Rental</td>\n",
       "      <td>4.4</td>\n",
       "      <td>Data Scientist</td>\n",
       "      <td>1</td>\n",
       "      <td>4</td>\n",
       "      <td>10000</td>\n",
       "      <td>11835</td>\n",
       "      <td>15000</td>\n",
       "    </tr>\n",
       "    <tr>\n",
       "      <th>9201</th>\n",
       "      <td>LexisNexis Legal &amp; Professional</td>\n",
       "      <td>3.9</td>\n",
       "      <td>Data Scientist I</td>\n",
       "      <td>1</td>\n",
       "      <td>260</td>\n",
       "      <td>104000</td>\n",
       "      <td>123496</td>\n",
       "      <td>148000</td>\n",
       "    </tr>\n",
       "  </tbody>\n",
       "</table>\n",
       "<p>9188 rows × 8 columns</p>\n",
       "</div>"
      ],
      "text/plain": [
       "                          companyName companyRating          position  \\\n",
       "0                                Meta           3.9    Data Scientist   \n",
       "1                  Ascendum Solutions           4.4    Data Scientist   \n",
       "2                                 IBM           3.9    Data Scientist   \n",
       "3                              Google           4.4    Data Scientist   \n",
       "4                              Amazon           3.7    Data Scientist   \n",
       "...                               ...           ...               ...   \n",
       "9197          All American Healthcare           3.1    Data Scientist   \n",
       "9198                  Designer Brands           3.7    Data Scientist   \n",
       "9199                      Ascent (UK)           4.5    Data Scientist   \n",
       "9200  Mr. John Portable Toilet Rental           4.4    Data Scientist   \n",
       "9201  LexisNexis Legal & Professional           3.9  Data Scientist I   \n",
       "\n",
       "     sampleSize openJobs salaryLow salaryMid salaryHigh  \n",
       "0          1499      722    200000    247842     313000  \n",
       "1           602     None    105000    129784     162000  \n",
       "2           585     5764    126000    155882     195000  \n",
       "3           538     1598    188000    235591     301000  \n",
       "4           519    12652    164000    203114     257000  \n",
       "...         ...      ...       ...       ...        ...  \n",
       "9197          1    13433     96000    119336     150000  \n",
       "9198          1       42    108000    131418     161000  \n",
       "9199          1     None    107000    133588     168000  \n",
       "9200          1        4     10000     11835      15000  \n",
       "9201          1      260    104000    123496     148000  \n",
       "\n",
       "[9188 rows x 8 columns]"
      ]
     },
     "execution_count": 12,
     "metadata": {},
     "output_type": "execute_result"
    }
   ],
   "source": [
    "# remove all positions that are not \"Data Scientist\", \"Data Science\", and \"Data Scientist I\"\n",
    "salaryDataframe = salaryDataframe[salaryDataframe.position.isin([\"Data Scientist\", \"Data Science\", \"Data Scientist I\"])]\n",
    "salaryDataframe"
   ]
  },
  {
   "cell_type": "markdown",
   "id": "5e4b31a2",
   "metadata": {},
   "source": [
    "How many records with the position of \"Data Science\" have a record for the same company with \"Data Scientist\" as the position?"
   ]
  },
  {
   "cell_type": "code",
   "execution_count": 13,
   "id": "178cc297",
   "metadata": {},
   "outputs": [
    {
     "name": "stdout",
     "output_type": "stream",
     "text": [
      "1233\n",
      "['Meta', 'Microsoft', 'Amazon', 'Adobe', 'Google', 'Apple', 'Johnson & Johnson', 'IBM', 'Verizon', 'Travelers', 'Nielsen', 'Cisco Systems', 'Capital One', 'eBay', 'ADP', 'Autodesk', 'Oracle', 'MITRE', 'SAP', 'LinkedIn', 'Walt Disney Company', 'Intel Corporation', 'Accenture', '84.51°', 'The Hartford', 'PayPal', '3M', 'Liberty Mutual Insurance', 'Fidelity Investments', 'Spotify', 'AT&T', 'Walmart', 'John Deere', 'Dell Technologies', 'Boeing', 'Truist', 'AARP', 'Chegg', 'Ford Motor Company', 'Tesla', 'Bayer', 'NASA', 'American Express', 'Intuit', 'Recursion Pharmaceuticals', 'UKG', 'UnitedHealth Group', 'Nationwide', 'JPMorgan Chase & Co', 'Red Hat', 'Salesforce', 'Booz Allen Hamilton', 'Pfizer', 'Wells Fargo', 'Uber', 'NCR', 'UPS', 'Verisk', 'NBCUniversal', 'Nokia', 'Merck', 'MilliporeSigma', 'Veritas Technologies', 'Sears', 'Twitter', 'Expedia Group', 'NIKE', 'CCC Intelligent Solutions', 'Genentech', 'CVS Health', 'Pinsight Media', 'AbbVie', 'Principal Financial Group', 'Chevron', 'NextEra Energy, Inc.', 'Hudl', 'Micron Technology', 'American Family Insurance', 'Leidos', 'State Farm', 'SAP Concur', 'J.B. Hunt Transport', 'UC San Francisco', 'Forkaia®', 'nference', 'Elsevier', 'Wayfair', 'HERE Technologies', 'Stitch Fix', 'SelfEmployed.com', 'Glassdoor', 'SLB', 'Uptake', 'Holy Name Medical Center', 'NT Concepts', 'C2FO', 'Uniphore Software Systems', 'Northwestern University', 'bp', 'Lawrence Livermore National Laboratory', 'Bank of America', 'Honeywell', 'Boston Scientific', 'Allstate', 'Zillow', 'CCRi', 'Syngenta', 'Pitney Bowes', 'Ancestry', 'TrueCar', 'KPMG', 'REX', 'Health Catalyst', 'DONE by NONE', 'Accern', 'iCIMS', 'Duke University', 'Charles Schwab', 'Progressive Leasing', 'Hulu', 'Aetna', 'Intermountain Health', 'Nordstrom', 'TransUnion', 'Corteva Agriscience', 'Dun & Bradstreet', 'Boehringer Ingelheim', 'Boston University', 'Kabbage', 'Staples', 'Arch Capital', 'Palo Alto Networks', 'University of Washington', 'COUNTRY Financial', 'Transamerica', 'HP Inc.', 'Airbnb', 'Labcorp', 'NVIDIA', 'Equinix', 'ABB', 'Excellus BlueCross BlueShield', 'Branch', 'Hypergiant', 'Teradata', 'Blue Yonder', 'Sanofi', 'CME Group', 'Pacific Northwest National Laboratory', 'Novartis', 'PTC', 'Stanford School of Medicine', 'StumbleUpon', \"Lowe's Home Improvement\", 'Acuity Brands', 'UMBC', 'C Spire', 'Anonymous', 'Lumen', 'ASML', 'GlobalFoundries', 'National League of Cities', 'TruStage', 'Deloitte', 'Conduent', 'William Blair', 'Slide Inc', 'RTI International', 'Cambia Health Solutions', 'Gap Inc.', 'Humana', 'XPO', 'OpenTable', 'Koch Industries', 'United Airlines', 'Turo', 'SimpleBet', 'Asana', 'Delta Dental Ins.', 'MSCI', 'US Census Bureau', 'Sikka Software', 'TotalEnergies', 'Marsh McLennan', 'Mariner LLC', 'Lam Research', 'DocuSign', 'Taylor Corporation', 'The Home Depot', 'NASA Jet Propulsion Laboratory', 'Prudential', 'ActiveCampaign', 'Axle Informatics', 'Samsung Electronics', 'The World Bank', 'Strata Decision Technology', 'New York Life', 'athenahealth', 'General Dynamics Information Technology', 'The Cigna Group', 'Blend360', 'Hewlett Packard Enterprise | HPE', 'CAS', 'Applied Materials', 'Elevance Health', 'Allegis Group', 'Proofpoint', 'Roblox', 'Xandr', 'LendUp', \"Cook County Assessor's Office\", 'VODA.ai', 'Synchrony', 'PPG Paints', 'Siemens Healthineers', 'University of Michigan', 'Johns Hopkins University Applied Physics Laboratory', 'Milwaukee Tool', 'NIH', 'DVORA', 'Unified Healthcare Group', 'Markel', 'SAS', 'Intralinks', 'U.S. District Court, Southern District of Ohio', 'Warner Bros.', 'Snap Finance', 'University of South Florida', 'X-Mode', 'Fintech', 'Viasat', 'Snap', 'Shure', 'Fluent', 'Securian Financial', 'AES Corporation', 'Colaberry', 'SUNY Buffalo', 'Roche', 'McKesson', 'McKesson', 'Georgia Tech', 'PepsiCo', 'AI Camp', 'Quora, Inc.', 'Abbott', 'Lockheed Martin', 'Novelis', 'Milliman', 'Mayo Clinic', 'University of Kentucky', 'Novetta', 'Carpe Data', 'Alcon', 'Major League Baseball (MLB)', 'Oklahoma State University', 'Yahoo', 'PanAgora', 'Raytheon Technologies', 'Granular', 'Juniper Networks', 'Beyond Limits', 'IQVIA', 'Sony Pictures Entertainment', 'Siemens', 'CMC Materials', 'Trimble', 'Springboard', 'Travelport', 'American Electric Power', 'Kaiser Permanente', 'Swiss Re', 'Ecolab', 'M Science', 'Belk', 'Mars', 'HealthEdge Software', 'Paramount', 'Sabre', 'FedEx Custom Critical', 'Signify', 'Intuitive (Intuitive Surgical)', 'Moloco', 'Fulton Bank', 'Nasdaq', 'Gartner', 'McAfee', 'Electronic Arts', 'Zoom Video Communications', 'Assurant', 'Zurich North America', 'Chewy', 'Penn State', 'University of California Berkeley', 'EVERSANA', 'SmugMug', 'Etsy', 'Memorial Sloan Kettering Cancer Center', 'Infosys', 'Biogen', 'Noblis', 'Nones', 'Copart', 'Cintas', 'Stellantis', 'Voya Financial', 'Atria Senior Living', 'Lyft', 'HALE Sports', 'Motorola Solutions', 'The Trade Desk', 'PlaceIQ', 'Hogan', 'AccuWeather', 'University of Southern California', 'Logitech', 'CDW', 'UC San Diego', 'Pluralsight', 'DNV', 'IEEE', 'The Data Standard', 'Covanex', 'adidas', 'FOX Broadcasting', 'Bombora', 'GEICO', 'Overproof (FL)', 'DraftKings', 'First Orion', 'Produbanco', 'Branded Research', 'Gilead Sciences', 'Classy, Inc', 'Foundry (TX)', 'Grid Dynamics', 'Twilio', 'NYC Department of Buildings', 'Claremont Graduate University', 'Leuko Labs', 'Jewelers Mutual Group', 'Ressources naturelles Canada', 'Retina AI', 'ABN AMRO', 'Navorion', 'General Mills', 'CLEARPRISM', 'LighTopTech', 'Vectra AI', 'WestRock', \"Paula's Choice\", 'NativeX', 'Duquense Light', 'ClearObject', 'Evidation Health', 'Vungle', \"Land O'Lakes\", 'CaddPrimer', 'Endgame', 'Costco Wholesale', 'Quantium', 'Greensky', 'Tyson Foods', 'University of Maryland', 'Cardlytics', 'Tagup', 'SolarWinds', 'University of Washington Club', 'Meltwater', 'University of Memphis', 'Clemson University', 'Dyno Therapeutics', 'Vizru', 'Civis Analytics', 'The General', 'Zscaler', 'Behaivior', 'iManage', 'New York State Office of the Attorney General', 'SambaSafety', 'Tailored Brands', 'Cummins', 'SambaSafety', 'Tailored Brands', 'Cummins', 'Atlantic Health System', 'Neustar', 'National Renewable Energy Lab', 'Entergy Louisiana', 'CACI International', 'Entergy Louisiana', 'CACI International', 'IBI Group', 'New York State Office of the Attorney General', \"Chef'd\", 'Likewise', 'G4S Secure Solutions', 'Sortera Alloys', 'Nozomi Networks', 'MathWorks', 'FedEx', 'Multicenter Perioperative Outcomes Group', 'Kalkomey Enterprises', 'University of Florida', 'Stanford Health Care', 'Next Insurance', 'Optum', 'Lovingly', 'GenoPalate', 'HiGeorge', 'Mayor’s Office for Economic Opportunity', 'InTime BioTech', 'Bashpole', 'OneMain Financial', 'CyberCube', 'Miami University', 'Health Recovery Solutions', 'Elevate Credit', 'US Bureau of Labor Statistics', 'Xilis', 'Cognoa', 'CliniComp', 'Peraton', 'NoGood', 'Overstock.com', 'Trident Systems', 'Flip Electronics', 'Retail Business Services', 'Maxar Technologies', 'Penn Medicine', 'Sysomos', 'Handshake', 'Strategic Financial Solutions', 'Planet Fitness', 'University of Wisconsin', 'Lubrizol', 'Beckman Coulter Life Sciences', 'BNSF Railway', 'Carmeuse', 'Cerner', 'Citizens', 'MediaMath', 'Warner Bros. Discovery', 'JetBrains', 'R4 Cloud Technologies', 'Spectral MD', 'Minnesota Department of Health', 'Proteus Digital Health', 'Ingen Software', 'Elanco', 'BitSight', 'Vipshop US Inc.', 'OTIS', 'Esri', 'Kimberly-Clark', 'TISTA Science and Technology', 'GNY Insurance Companies', 'Pindrop', 'Fannie Mae', 'Joby Aviation', 'The David J. Joseph Company', 'Esurance', 'Cloud Big Data Technologies LLC', 'Marriott International', 'Coyote Logistics', 'StudentUniverse', 'County of Sacramento', 'Lumiata', 'Contata Solutions', 'Evil Geniuses', 'IFC', 'RTY Solutions', 'Palo Alto Veterans Institute for Research', 'Alibaba Group', 'ADUSA Supply Chain', 'PyrAmes', 'Nestor Technologies', 'fifty-five', 'American Institutes for Research', 'AvantStay', \"Domino's\", 'BNY Mellon', 'Comerica', 'National Security Agency', 'Everi', 'Certara', 'Gannett', 'International Integrated Systems', 'Sonder', 'University of Utah', 'Sixup', 'Skyhawk Therapeutics', 'AdHoc Networks', 'Waters', 'World Wildlife Fund', 'Amazon Robotics', \"St. Jude Children's Research Hospital\", 'Fluence Analytics', 'Vaticle', 'People Tech Group', 'HBO', 'L Brands', 'ARI', 'Cloudflare', 'South Dakota Board of Regents', 'ProQuest', 'Siemens Digital Industries Software', 'Simulmedia', 'Morelity', 'BMW of North America', 'Everstream Analytics', 'AWE PLC', 'Unique', 'Sendwave', 'Viome Life Sciences', 'Russell Investments', 'Predmatic AI', 'Nanu Nana', 'Ericsson-Worldwide', 'NTD Television', 'Sorenson Impact', 'BetterHelp', 'MetLife', 'NewLane Finance', 'Methodist Hospital (KY)', 'Remedy Partners', 'Cypress Creek Renewables', 'Applecart', 'Water Resources Research Center', 'iHeartMedia', 'Aptiv', 'New York Stem Cell Foundation', \"Children's Hospital Los Angeles\", 'Regeneron', 'Fabletics', 'Khoros', 'Graphen', 'Cinemark', 'Navigate BioPharma Services', 'University of Chicago', 'Happy Money', 'VF', 'Pixability', 'Indiana Automotive Fasteners', 'Quantifind', 'Maryville University', 'FedEx Ground', 'Florida Blue', 'Getty Images', 'Stanley Black & Decker', 'AuPairCare', 'Janus Research Group', 'Rutgers University', 'Erie Insurance Group', 'Avantor', 'Øptimus', 'EMD Serono', 'Ethos Group', 'Cognistx', 'IntelliCentrics', 'Berkeley Research Group', 'Exelon Energy', 'Oak Ridge National Laboratory', 'Advantech GS Enterprises', 'Carnegie Mellon University', 'Penguin Random House ', 'Tempus Labs', 'Quantgene', 'KBR', 'Infodat International', 'Ameren', 'BBVA', 'MagicLinks', 'Nutrien', 'Philip Morris International', 'Professional Enrollment Concepts', 'Surface Oncology', 'Regional Transportation District', 'Lookout', 'GYG IT Solutions', 'Fullscreen', 'Scout Energy Partners', 'Duke Health', 'Blizzard Entertainment', 'CBRE', 'Assembly, Inc. (Redwood City)', 'Viewpoint', 'Register Tape Network', 'AECOM', 'Phase Genomics', 'Walmart Global Tech', 'Higher Logic', 'Parker Hannifin', 'Rubicon', 'Gladstone Institutes', 'Therabody', 'Protagonist', 'IRL', 'Duke Clinical Research Institute', 'In-N-Out Burger', 'Vida Health', 'Trend Micro Inc.', 'Baozun eCommerce', 'Iowa Department of Transportation', 'Iowa Department of Transportation', 'KLA', 'Rocket Travel', 'US Postal Service', 'Arrow Electronics', 'Triad Electric', 'View, Inc.', 'Keramida', 'Oriental Trading Company', 'Kalypso', 'New York State Department of Health', 'Physicians Mutual Insurance', 'Komatsu', 'Albertsons Companies', 'Xylem Inc.', 'NEWNESS', 'Whiterock AI', 'Lumileds', 'Kite Pharma', 'Carta', 'GE Aerospace', 'Gravity4', 'Naval Information Warfare Center Atlantic', 'UCLA Health', 'CLIPr', 'Marsh', 'Delta Dental Plans Association', 'TIBCO Software', 'ISN Software', 'AMD', 'Georgetown University', 'BlueCross BlueShield of Tennessee', 'DoorDash', 'AMD', 'DoorDash', 'Brunswick', 'Los Angeles Times', 'Locus Analytics', 'Takeda Pharmaceuticals', 'Connect Wolf', 'Account Spark', 'January Advisors', 'Moogsoft', 'Sea-Bird Scientific', 'Byte Link Systems', 'Startup Germany', 'KAYAK', 'Quantiphi', 'Eyeview', 'Metropolitan Council of the Twin Cities', 'Snowflake', 'Vanderbilt University', 'Triple S', 'Pathrise', 'Honeywell Intelligrated', 'Gallagher', 'Hoonuit', 'Boston Consulting Group', 'Breakthrough Fuel', 'GE Digital', 'WEX', 'BlueLabs', 'Sophus IT Solutions', 'O-I Glass', 'AgilOne', 'Plutoshift', 'Sophus IT Solutions', 'O-I Glass', 'AgilOne', 'Plutoshift', 'GroundTruth', \"Kohl's\", 'FlexGen Power Systems', 'Summit Health', 'Ookla', 'H E B', 'SPX Technologies', 'Beyond the Arc', 'Fetch', 'Capgemini Engineering', 'Thomas Jefferson University and Jefferson Health', 'Axos Bank', 'Lantern Pharma', 'CoreVest', 'Macrosoft, inc', 'Spaceflight', 'Startup Germany', 'Indiana University Health', 'Spectrum', 'Quinnox', 'FireEye', 'Relay Therapeutics', 'Thomas', 'University of Cincinnati', 'Enquizit', 'Placeholder', 'Immuta', 'Syntelli Solutions', 'Aunalytics', 'SMX', 'Perspecta', 'Blue Cross and Blue Shield Association', 'Complete Merchant Solutions', 'Prisma Health', 'o9 Solutions', 'The Northridge Group', 'Zions Bancorporation', 'PACCAR', 'CompassRed', 'App Orchid', 'Acuant', 'Cludo', 'Procore Technologies', 'Chartbeat', 'CadenceIQ', 'MedTourEasy', 'Workiva', 'Laboratoria', 'Halliburton', 'Ask Media Group', 'The Judge Group', 'GreenRubino', 'American Medical Association', 'Illumina', 'EnPro', 'FabFitFun', 'Morningstar', 'United States Federal Government', 'Ticketmaster', 'Brigham Minerals', 'Avanade', 'Penske', 'iSmile Technologies', 'Amgen', 'Advance Auto Parts', 'Genpact', 'IPG Mediabrands', 'SelfMade', 'The Coca-Cola Company', 'Duke.AI', 'dunnhumby', 'Medtronic', 'Andritz', 'Ambassadors', 'Dataiku', 'Revelio Labs', 'McGraw Hill', 'Foxconn Industrial Internet', 'Comcast', 'Lucidworks', 'Bloomberg L.P.', 'Real Chemistry', 'Lineage Logistics', 'Shoptaki', 'Lynntech', 'US Army', 'ABCD Technology', 'Reonomy', 'TruU', 'The Johns Hopkins University', 'Swift Agency', 'Epic Sciences', 'Danaher', 'Magical Lighting', 'Editorialist YX', 'Optimal Solutions Integration', 'Zenon.ai', 'Fair', 'Lark', 'Shopify', 'Activision Blizzard', 'Vertex Education', 'Electric Last Mile', 'LexisNexis Risk Solutions', 'Macy’s Backstage', 'Adroit Worldwide Media', 'Schnucks', 'RIT (Rochester Institute of Technology)', 'Reinsurance Group of America', 'Virginia Commonwealth University', 'Clairvoyant', 'MKS Instruments', 'Other', 'Dropbox', 'Byteflow Dynamics', 'Dow Jones', 'Taboola', 'Coding it Forward', '3D Security Services', 'The Buttonwood Tree (CA)', 'ManTech', 'Petco', 'MDVIP', 'Rice University', 'DOD', 'SINA', 'Genuine Parts Company', 'The Hanover Insurance Group', 'Zendesk', 'World Fuel Services', 'Qcue', 'Ball Aerospace', 'SeatGeek', 'Ivanti', 'Cognite', 'Zipline', 'Unisys', 'Seriously Digital Entertainment', 'Cognite', 'Zipline', 'Unisys', 'Seriously Digital Entertainment', 'Amazon Fulfillment Center DET2', 'SchoolsFirst Federal Credit Union', 'BI-LO', 'Mailchimp', 'Databricks', 'Rotella Capital Management', 'Deephaven Data Labs', 'FieldLevel', 'Feedzai', 'NinthDecimal', 'NinthDecimal', 'Modern Hire', 'KIPP Texas Public Schools', 'Nomura Holdings', 'ValueMomentum', 'Codazen', 'Nomura Holdings', 'ValueMomentum', 'Codazen', 'Scout Energy', 'NYC Health + Hospitals', 'RezScore', 'MongoDB', 'MongoDB', 'Blue Cross Blue Shield of Illinois, Montana, New Mexico, Oklahoma & Texas | HCSC', 'EpochMediaGroup', 'Root Inc.', 'GAO Tek', 'Navan', 'Humana', 'Humana', 'Dominion Energy', 'Buckman', 'Cox Automotive', 'University of Illinois at Chicago', 'Bottomline Technologies', 'Emailage', 'Verusen', 'Publicis Health', 'Cedar', 'Aon', 'City National Bank', 'E. & J. Gallo Winery', 'Iron Roots Inc.', 'Digital Realty', 'GHD', 'Symetra', 'Axiom Marketing Communciations', 'Omdena', 'Tech Mahindra', 'VMware User Group', '14 West', 'HCA Healthcare', 'Impact', 'Coupa Software Inc', 'BME & Sons', 'Service Express', 'XYZ', 'Sumitovant Biopharma', 'Albemarle', 'Entergy', 'Class Valuation', 'C3 AI', 'Activision', 'ecosystem.Ai', 'National Ecological Observatory Network', 'Monumetric', 'Cross River Bank', 'Fluor', 'Lux Research', 'CAI', 'Chesterfield County Public Schools', 'The Scripps Research Institute', 'Medidata Solutions', 'Lenovo', 'CIA', 'Deutsche Bank', 'Center for Public Service Communications', 'Bank of the West', 'Level', 'XYZ', 'LPL Financial', 'Akamai', 'Golden Gate University', 'Golden Gate University', 'Tata Consultancy Services (North America)', 'Eigenpatterns', 'Systems Planning and Analysis, Inc.', 'NielsenIQ', 'Cyber Collective', 'Meketa', 'CKM Analytix', 'Cognosante', 'Outreach', 'Outreach', 'WeRide', 'Crimson Education', 'Graffeo Chiropractic Clinic', 'NA', 'Spectrum Health Systems', 'Cognira', 'Xylem', 'Hartford Steam Boiler', 'Lennox International', 'Headstrong', 'Lumentum Operations', 'ZEISS Group', 'University Federal Credit Union', \"Levi's Stadium\", 'SS&C', 'Livent', 'Kubrick Group', 'ZS Associates', 'EWI', 'Workday', 'Vulcan Value Partners', 'Oregon State University', 'Global Payments', 'Proximus', 'Brigham Young University (BYU)', 'Jobjet', 'Apolis', 'Splunk', 'LiquidHub', 'Thomson Reuters', 'APS Technology', 'Bose', 'Institute for Defense Analyses', 'ABC', 'Pittsburgh Supercomputing Center', 'Bazean', 'Wild Earth (CA)', 'Shipt', 'Strados Labs', 'Mohawk Industries', 'PathAI', 'Axtria', 'Dexcom', 'CK-12 Foundation', 'TechTogether', 'Anonymous Content', 'Arizona State University', 'All Traffic Solutions', 'Cypress.io', 'Synacor', 'Kansas State University', 'Labormatics', 'Kohler Co.', 'Baanyan Software Services', 'Udemy', 'Regis University', 'Xyant Technology', 'Target', 'GCI', 'JBS', 'Vericast', 'Samsung Austin Semiconductor', 'Healthfirst (New York)', 'Fullpower', 'Market Basket', 'Flint Hills Resources', 'Family RV Group', 'Bidgely', 'Altice Europe', 'Schneider Electric', 'Twin Health', 'Qorvo', 'Red Baton', 'Homesite Group Incorporated', 'Wisconsin Union', 'Government of Canada', 'TaskUs', 'Fair Value Partners', 'PPG', 'Author Solutions', 'Analytics Media Group', 'TransRe', 'Qualcomm', 'Zippia', 'Office of the New York State Comptroller', 'HealthcareSource', 'Culturefit', 'US Air Force', 'Management Science Associates, Inc.', 'Motivf', 'Sunrun', 'HelloFresh', 'Omaze', 'Army and Air Force Exchange', 'Sony Music Entertainment', 'Tmk Global', 'Jellyvision Lab', 'Nestlé Purina U.S.', 'Harris County, Texas', 'Paycom', 'Dynamic Range Labs', 'Sunbelt Rentals', 'AliExpress', 'Insurance Services Office', 'Perscio', 'Cloudforce', 'China Telecom', 'SUEZ', 'Panera Bread', 'Bishop Dunne Catholic School', 'J.D. Power', 'K+S', 'CUNY (City University of New York)', 'Epsilon', 'InterDigital', 'GoPro', 'DSV', 'Stansberry Research', 'Aiotics', \"Raising Cane's\", 'Affinius Capital', 'Segment', 'HCLTech', 'E Ink', 'Evernorth', 'Project ECHO', 'Celgene', 'Hahn', 'PK', 'Frontdoor', 'INVISTA', 'Open Data Nation', 'Precise Software Solutions (MD)', 'Indianapolis Airport Authority', 'EOG', 'Carlisle Construction Materials', 'UserTesting', 'NthDS', 'Colgate-Palmolive', 'The Darwish Bin Ahmed & Sons group of Companies', 'TouchTunes', 'StepFunction', 'Rocket Software', 'Optimal Asset Management', 'Alliance Tek Solutions', 'TiVo', 'Dealer Tire', 'Mylan Inc', 'KLX Energy Services', 'Best Buy', 'Deepscope', 'North Carolina Agricultural and Technical State University', 'HINGE', 'Yuh', 'DirectAvenue', 'World Resources Institute', 'CyGlass', 'RS21', 'Amyx', 'Zoomi', 'SPAN', 'GSI Technology', 'CareFirst BlueCross BlueShield', 'Noser Engineering', 'Scribd', 'Paylocity', 'SparkCognition', 'Massachusetts General Hospital', 'C Space', 'FIDES (ITALY)', 'Socially Determined', 'Rocky Bay', 'Reddit', 'Ventyx', 'Federated Investors', 'Adroit Associates Inc', 'Core Digital Media', 'Integral Ad Science', 'Rev', 'IPwe', 'Wattzon', 'MGIC Investment', 'Valiant Marketing Group', 'HHH', 'Glamnetic', 'Credit Union National Association', 'Porto', '3TEN8', 'BYU-Pathway Worldwide', 'Weedmaps', 'First American Financial Corporation', 'Home Team Science and Technology Agency', 'QuaEra', 'Qnovo', 'Cognizant Technology Solutions', 'Byton', 'SANDAG', 'Gondwana', 'Pearson', 'Tute Genomics', 'Heliotrope Technologies', 'Fluxx', 'Amnesia Media', 'Fidelis Cybersecurity', 'Phreesia', 'McKinsey & Company', 'Outgive', 'Tech Data', 'Unilever', 'Kony', 'Mobility Quest', 'Highmark Health', 'Advent International', 'Publishers Clearing House', 'DNAnexus', 'Henkel', 'MTX Group', 'DXC Technology', 'Novo Nordisk', 'Kore.ai', 'BRIDGEi2i', 'RepairSmith', 'TrueMotion', 'NeuroFlow', 'Allwyn', 'ShopRunner', 'Aruba Networks', 'Green Street', 'UT Dallas', 'UNOPS', 'Brown-Forman', 'Alvarez & Marsal', 'Prospect 33', 'Capella Space', 'Southern California Edison', 'ITT Goulds Pumps', 'SuperWorld', 'F5', 'Amrock', 'Harvard University', 'dataxu', 'Ocrolus', 'Club Feast', 'ION Group', 'Garmin', 'UnitedMasters', 'Alignment Healthcare', 'IDEXX Laboratories', 'Philips', 'Persado', 'McBride Sisters Collection', 'Career Craft Technologies', 'AMC Networks', 'Avast Software', 'Union Mutual of Vermont', 'Vituity', 'Moelis & Company', 'Thermo Fisher Scientific', 'Fujitsu', 'Cynnovative', 'Qlarant', 'Service Management Group', 'Urban Out Sitters', 'Zynga', 'Behavioral Health Works', 'New York Times', 'Future Group', 'inploi', 'Snagajob', 'Insight', 'Digitas', 'BrightBean', 'Wolverine Trading', 'Organic Valley', 'Roku', 'Spreedly', 'Environmental Protection Agency', 'FUJIFILM', 'Sovrn', 'City of New York', 'DataScience.com', 'My Taxi (Uzbekistan)', 'EMR Technical Solutions', 'Tru Optik', 'Aramco Americas', '7 Chord', 'Curative, Inc.', 'Temple University', 'Neeva', 'Freelancer', 'Kroll', 'Lionbridge', 'Valia', 'The Nature Conservancy', 'Wipfli', 'Ambit, Inc.', 'Northgate Market', 'Check Point Software Technologies', '1010data', 'Noah Basketball', 'numo (PA)', 'The Clorox Company', 'NeuroScouting', 'iRobot', 'Enthought', 'SVS Soft Tech', 'Zeus', 'Altair Engineering', 'General Motors (GM)', 'UFG Insurance', 'Cleco', 'IDS', 'Federal Reserve Board', 'Varian Medical Systems', 'Clarify Health Solutions', 'CloudKnox', 'TSI Incorporated', 'KEVIN.MURPHY', 'San Diego Supercomputer Center', 'American Fidelity Assurance Company', 'The Magic Bean', 'Samsung Electronics America']\n"
     ]
    }
   ],
   "source": [
    "companies_ds = list(salaryDataframe[salaryDataframe.position == \"Data Science\"].companyName)\n",
    "print(len(companies_ds))\n",
    "print(companies_ds)"
   ]
  },
  {
   "cell_type": "code",
   "execution_count": 14,
   "id": "21776b05",
   "metadata": {},
   "outputs": [
    {
     "data": {
      "text/html": [
       "<div>\n",
       "<style scoped>\n",
       "    .dataframe tbody tr th:only-of-type {\n",
       "        vertical-align: middle;\n",
       "    }\n",
       "\n",
       "    .dataframe tbody tr th {\n",
       "        vertical-align: top;\n",
       "    }\n",
       "\n",
       "    .dataframe thead th {\n",
       "        text-align: right;\n",
       "    }\n",
       "</style>\n",
       "<table border=\"1\" class=\"dataframe\">\n",
       "  <thead>\n",
       "    <tr style=\"text-align: right;\">\n",
       "      <th></th>\n",
       "      <th>companyName</th>\n",
       "      <th>companyRating</th>\n",
       "      <th>position</th>\n",
       "      <th>sampleSize</th>\n",
       "      <th>openJobs</th>\n",
       "      <th>salaryLow</th>\n",
       "      <th>salaryMid</th>\n",
       "      <th>salaryHigh</th>\n",
       "    </tr>\n",
       "  </thead>\n",
       "  <tbody>\n",
       "    <tr>\n",
       "      <th>0</th>\n",
       "      <td>Meta</td>\n",
       "      <td>3.9</td>\n",
       "      <td>Data Scientist</td>\n",
       "      <td>1499</td>\n",
       "      <td>722</td>\n",
       "      <td>200000</td>\n",
       "      <td>247842</td>\n",
       "      <td>313000</td>\n",
       "    </tr>\n",
       "    <tr>\n",
       "      <th>2</th>\n",
       "      <td>IBM</td>\n",
       "      <td>3.9</td>\n",
       "      <td>Data Scientist</td>\n",
       "      <td>585</td>\n",
       "      <td>5764</td>\n",
       "      <td>126000</td>\n",
       "      <td>155882</td>\n",
       "      <td>195000</td>\n",
       "    </tr>\n",
       "    <tr>\n",
       "      <th>3</th>\n",
       "      <td>Google</td>\n",
       "      <td>4.4</td>\n",
       "      <td>Data Scientist</td>\n",
       "      <td>538</td>\n",
       "      <td>1598</td>\n",
       "      <td>188000</td>\n",
       "      <td>235591</td>\n",
       "      <td>301000</td>\n",
       "    </tr>\n",
       "    <tr>\n",
       "      <th>4</th>\n",
       "      <td>Amazon</td>\n",
       "      <td>3.7</td>\n",
       "      <td>Data Scientist</td>\n",
       "      <td>519</td>\n",
       "      <td>12652</td>\n",
       "      <td>164000</td>\n",
       "      <td>203114</td>\n",
       "      <td>257000</td>\n",
       "    </tr>\n",
       "    <tr>\n",
       "      <th>5</th>\n",
       "      <td>Quora, Inc.</td>\n",
       "      <td>4.4</td>\n",
       "      <td>Data Scientist</td>\n",
       "      <td>514</td>\n",
       "      <td>16</td>\n",
       "      <td>133000</td>\n",
       "      <td>164928</td>\n",
       "      <td>208000</td>\n",
       "    </tr>\n",
       "    <tr>\n",
       "      <th>...</th>\n",
       "      <td>...</td>\n",
       "      <td>...</td>\n",
       "      <td>...</td>\n",
       "      <td>...</td>\n",
       "      <td>...</td>\n",
       "      <td>...</td>\n",
       "      <td>...</td>\n",
       "      <td>...</td>\n",
       "    </tr>\n",
       "    <tr>\n",
       "      <th>9117</th>\n",
       "      <td>Rotella Capital Management</td>\n",
       "      <td>2.8</td>\n",
       "      <td>Data Scientist</td>\n",
       "      <td>1</td>\n",
       "      <td>None</td>\n",
       "      <td>66</td>\n",
       "      <td>82</td>\n",
       "      <td>104</td>\n",
       "    </tr>\n",
       "    <tr>\n",
       "      <th>9173</th>\n",
       "      <td>Foxconn Industrial Internet</td>\n",
       "      <td>3.4</td>\n",
       "      <td>Data Scientist</td>\n",
       "      <td>1</td>\n",
       "      <td>34</td>\n",
       "      <td>109000</td>\n",
       "      <td>137419</td>\n",
       "      <td>174000</td>\n",
       "    </tr>\n",
       "    <tr>\n",
       "      <th>9179</th>\n",
       "      <td>Lark</td>\n",
       "      <td>4.2</td>\n",
       "      <td>Data Scientist</td>\n",
       "      <td>1</td>\n",
       "      <td>None</td>\n",
       "      <td>100000</td>\n",
       "      <td>123849</td>\n",
       "      <td>155000</td>\n",
       "    </tr>\n",
       "    <tr>\n",
       "      <th>9183</th>\n",
       "      <td>Lark</td>\n",
       "      <td>4.2</td>\n",
       "      <td>Data Scientist</td>\n",
       "      <td>1</td>\n",
       "      <td>None</td>\n",
       "      <td>100000</td>\n",
       "      <td>123849</td>\n",
       "      <td>155000</td>\n",
       "    </tr>\n",
       "    <tr>\n",
       "      <th>9187</th>\n",
       "      <td>Lantern Pharma</td>\n",
       "      <td>5.0</td>\n",
       "      <td>Data Scientist</td>\n",
       "      <td>1</td>\n",
       "      <td>None</td>\n",
       "      <td>47</td>\n",
       "      <td>60</td>\n",
       "      <td>77</td>\n",
       "    </tr>\n",
       "  </tbody>\n",
       "</table>\n",
       "<p>780 rows × 8 columns</p>\n",
       "</div>"
      ],
      "text/plain": [
       "                      companyName companyRating        position sampleSize  \\\n",
       "0                            Meta           3.9  Data Scientist       1499   \n",
       "2                             IBM           3.9  Data Scientist        585   \n",
       "3                          Google           4.4  Data Scientist        538   \n",
       "4                          Amazon           3.7  Data Scientist        519   \n",
       "5                     Quora, Inc.           4.4  Data Scientist        514   \n",
       "...                           ...           ...             ...        ...   \n",
       "9117   Rotella Capital Management           2.8  Data Scientist          1   \n",
       "9173  Foxconn Industrial Internet           3.4  Data Scientist          1   \n",
       "9179                         Lark           4.2  Data Scientist          1   \n",
       "9183                         Lark           4.2  Data Scientist          1   \n",
       "9187               Lantern Pharma           5.0  Data Scientist          1   \n",
       "\n",
       "     openJobs salaryLow salaryMid salaryHigh  \n",
       "0         722    200000    247842     313000  \n",
       "2        5764    126000    155882     195000  \n",
       "3        1598    188000    235591     301000  \n",
       "4       12652    164000    203114     257000  \n",
       "5          16    133000    164928     208000  \n",
       "...       ...       ...       ...        ...  \n",
       "9117     None        66        82        104  \n",
       "9173       34    109000    137419     174000  \n",
       "9179     None    100000    123849     155000  \n",
       "9183     None    100000    123849     155000  \n",
       "9187     None        47        60         77  \n",
       "\n",
       "[780 rows x 8 columns]"
      ]
     },
     "execution_count": 14,
     "metadata": {},
     "output_type": "execute_result"
    }
   ],
   "source": [
    "salaryDataframe[(salaryDataframe.companyName.isin(companies_ds)) & (salaryDataframe.position == \"Data Scientist\")]"
   ]
  },
  {
   "cell_type": "markdown",
   "id": "a27aa73b",
   "metadata": {},
   "source": [
    "Out of the 1,233 records that have the position of \"Data Science\", 780 of those records have a record for the same company with \"Data Scientist\" as the position.\n",
    "\n",
    "This means that most of the records with the position of \"Data Science\" are duplicates, so all 1,233 of these records will be removed from the dataset."
   ]
  },
  {
   "cell_type": "code",
   "execution_count": 15,
   "id": "66088b63",
   "metadata": {},
   "outputs": [
    {
     "data": {
      "text/html": [
       "<div>\n",
       "<style scoped>\n",
       "    .dataframe tbody tr th:only-of-type {\n",
       "        vertical-align: middle;\n",
       "    }\n",
       "\n",
       "    .dataframe tbody tr th {\n",
       "        vertical-align: top;\n",
       "    }\n",
       "\n",
       "    .dataframe thead th {\n",
       "        text-align: right;\n",
       "    }\n",
       "</style>\n",
       "<table border=\"1\" class=\"dataframe\">\n",
       "  <thead>\n",
       "    <tr style=\"text-align: right;\">\n",
       "      <th></th>\n",
       "      <th>companyName</th>\n",
       "      <th>companyRating</th>\n",
       "      <th>position</th>\n",
       "      <th>sampleSize</th>\n",
       "      <th>openJobs</th>\n",
       "      <th>salaryLow</th>\n",
       "      <th>salaryMid</th>\n",
       "      <th>salaryHigh</th>\n",
       "    </tr>\n",
       "  </thead>\n",
       "  <tbody>\n",
       "    <tr>\n",
       "      <th>0</th>\n",
       "      <td>Meta</td>\n",
       "      <td>3.9</td>\n",
       "      <td>Data Scientist</td>\n",
       "      <td>1499</td>\n",
       "      <td>722</td>\n",
       "      <td>200000</td>\n",
       "      <td>247842</td>\n",
       "      <td>313000</td>\n",
       "    </tr>\n",
       "    <tr>\n",
       "      <th>1</th>\n",
       "      <td>Ascendum Solutions</td>\n",
       "      <td>4.4</td>\n",
       "      <td>Data Scientist</td>\n",
       "      <td>602</td>\n",
       "      <td>None</td>\n",
       "      <td>105000</td>\n",
       "      <td>129784</td>\n",
       "      <td>162000</td>\n",
       "    </tr>\n",
       "    <tr>\n",
       "      <th>2</th>\n",
       "      <td>IBM</td>\n",
       "      <td>3.9</td>\n",
       "      <td>Data Scientist</td>\n",
       "      <td>585</td>\n",
       "      <td>5764</td>\n",
       "      <td>126000</td>\n",
       "      <td>155882</td>\n",
       "      <td>195000</td>\n",
       "    </tr>\n",
       "    <tr>\n",
       "      <th>3</th>\n",
       "      <td>Google</td>\n",
       "      <td>4.4</td>\n",
       "      <td>Data Scientist</td>\n",
       "      <td>538</td>\n",
       "      <td>1598</td>\n",
       "      <td>188000</td>\n",
       "      <td>235591</td>\n",
       "      <td>301000</td>\n",
       "    </tr>\n",
       "    <tr>\n",
       "      <th>4</th>\n",
       "      <td>Amazon</td>\n",
       "      <td>3.7</td>\n",
       "      <td>Data Scientist</td>\n",
       "      <td>519</td>\n",
       "      <td>12652</td>\n",
       "      <td>164000</td>\n",
       "      <td>203114</td>\n",
       "      <td>257000</td>\n",
       "    </tr>\n",
       "    <tr>\n",
       "      <th>...</th>\n",
       "      <td>...</td>\n",
       "      <td>...</td>\n",
       "      <td>...</td>\n",
       "      <td>...</td>\n",
       "      <td>...</td>\n",
       "      <td>...</td>\n",
       "      <td>...</td>\n",
       "      <td>...</td>\n",
       "    </tr>\n",
       "    <tr>\n",
       "      <th>9197</th>\n",
       "      <td>All American Healthcare</td>\n",
       "      <td>3.1</td>\n",
       "      <td>Data Scientist</td>\n",
       "      <td>1</td>\n",
       "      <td>13433</td>\n",
       "      <td>96000</td>\n",
       "      <td>119336</td>\n",
       "      <td>150000</td>\n",
       "    </tr>\n",
       "    <tr>\n",
       "      <th>9198</th>\n",
       "      <td>Designer Brands</td>\n",
       "      <td>3.7</td>\n",
       "      <td>Data Scientist</td>\n",
       "      <td>1</td>\n",
       "      <td>42</td>\n",
       "      <td>108000</td>\n",
       "      <td>131418</td>\n",
       "      <td>161000</td>\n",
       "    </tr>\n",
       "    <tr>\n",
       "      <th>9199</th>\n",
       "      <td>Ascent (UK)</td>\n",
       "      <td>4.5</td>\n",
       "      <td>Data Scientist</td>\n",
       "      <td>1</td>\n",
       "      <td>None</td>\n",
       "      <td>107000</td>\n",
       "      <td>133588</td>\n",
       "      <td>168000</td>\n",
       "    </tr>\n",
       "    <tr>\n",
       "      <th>9200</th>\n",
       "      <td>Mr. John Portable Toilet Rental</td>\n",
       "      <td>4.4</td>\n",
       "      <td>Data Scientist</td>\n",
       "      <td>1</td>\n",
       "      <td>4</td>\n",
       "      <td>10000</td>\n",
       "      <td>11835</td>\n",
       "      <td>15000</td>\n",
       "    </tr>\n",
       "    <tr>\n",
       "      <th>9201</th>\n",
       "      <td>LexisNexis Legal &amp; Professional</td>\n",
       "      <td>3.9</td>\n",
       "      <td>Data Scientist I</td>\n",
       "      <td>1</td>\n",
       "      <td>260</td>\n",
       "      <td>104000</td>\n",
       "      <td>123496</td>\n",
       "      <td>148000</td>\n",
       "    </tr>\n",
       "  </tbody>\n",
       "</table>\n",
       "<p>7955 rows × 8 columns</p>\n",
       "</div>"
      ],
      "text/plain": [
       "                          companyName companyRating          position  \\\n",
       "0                                Meta           3.9    Data Scientist   \n",
       "1                  Ascendum Solutions           4.4    Data Scientist   \n",
       "2                                 IBM           3.9    Data Scientist   \n",
       "3                              Google           4.4    Data Scientist   \n",
       "4                              Amazon           3.7    Data Scientist   \n",
       "...                               ...           ...               ...   \n",
       "9197          All American Healthcare           3.1    Data Scientist   \n",
       "9198                  Designer Brands           3.7    Data Scientist   \n",
       "9199                      Ascent (UK)           4.5    Data Scientist   \n",
       "9200  Mr. John Portable Toilet Rental           4.4    Data Scientist   \n",
       "9201  LexisNexis Legal & Professional           3.9  Data Scientist I   \n",
       "\n",
       "     sampleSize openJobs salaryLow salaryMid salaryHigh  \n",
       "0          1499      722    200000    247842     313000  \n",
       "1           602     None    105000    129784     162000  \n",
       "2           585     5764    126000    155882     195000  \n",
       "3           538     1598    188000    235591     301000  \n",
       "4           519    12652    164000    203114     257000  \n",
       "...         ...      ...       ...       ...        ...  \n",
       "9197          1    13433     96000    119336     150000  \n",
       "9198          1       42    108000    131418     161000  \n",
       "9199          1     None    107000    133588     168000  \n",
       "9200          1        4     10000     11835      15000  \n",
       "9201          1      260    104000    123496     148000  \n",
       "\n",
       "[7955 rows x 8 columns]"
      ]
     },
     "execution_count": 15,
     "metadata": {},
     "output_type": "execute_result"
    }
   ],
   "source": [
    "# remove the rows with position of \"Data Science\"\n",
    "salaryDataframe = salaryDataframe[salaryDataframe.position != \"Data Science\"]\n",
    "salaryDataframe"
   ]
  },
  {
   "cell_type": "markdown",
   "id": "74963f11",
   "metadata": {},
   "source": [
    "Let's perform the same check on the positions of \"Data Scientist I\""
   ]
  },
  {
   "cell_type": "code",
   "execution_count": 16,
   "id": "46d92abf",
   "metadata": {},
   "outputs": [
    {
     "name": "stdout",
     "output_type": "stream",
     "text": [
      "101\n",
      "['Amazon', 'Insurance Services Office', 'Centene', 'Elevate Credit', 'Grubhub', 'NASA Jet Propulsion Laboratory', 'Pacific Northwest National Laboratory', 'UnitedHealth Group', 'Verisk', 'Uber', 'Expedia Group', 'Cleveland Clinic', 'Schneider', 'Wolters Kluwer R&D U.S', 'Truist', 'USAA', 'American Family Insurance', 'NanoString', \"Children's Hospital of Philadelphia\", 'E Source', 'Cotiviti', 'American Home Shield', 'McKinsey & Company', 'Oscar Health', 'GEICO', 'Unum', 'Ingram Micro', 'L3Harris', 'Stride Funding', 'Redstone Federal Credit Union', 'The Trade Desk', 'J.B. Hunt Transport', 'Chickasaw Nation', 'Distilled Technology', 'Distilled Technology', 'Northeast Information Discovery', 'Optum', 'Knowesis', 'Progressive Leasing', 'Savvysherpa', 'Limeade', 'A-Alpha Bio', 'Brinks Home', 'Medallia', 'Warner Bros. Discovery', 'Liberty Mutual Insurance', 'Adtalem Global Education', 'RiskGenius', 'Zulily', 'Transamerica', 'Chewy', 'AbbVie', 'bioMérieux', 'Twitter', 'FloatMe', 'Massachusetts General Hospital', 'ARCTOS', 'Stats Perform', 'Dataminr', 'Dana-Farber Cancer Institute', 'Noble Energy', 'Tinder', 'GoGuardian', 'Texas State Technical College', 'SMS group Inc.', 'Precision Medicine Group', 'American Automobile Association (AAA)', 'Memorial Sloan Kettering Cancer Center', 'Olive', 'SANDAG', 'SANDAG', 'SparkCognition', 'Gerdau', 'Argo AI', 'Frederick National Laboratory for Cancer Research', 'Bank of America', 'Facts and Measures', 'Avrio', 'Trinity Health', 'DiDi Labs', 'Truist', 'HCA Healthcare', 'AECOM', 'Amerant Bank', 'Cox Automotive', 'Shutterstock', 'Merck', 'Spectrum', 'ExtraHop Networks', 'Toast Inc', 'Early Warning Services', '3E', 'National Ecological Observatory Network', '84.51°', 'Vanguard', 'PayPal', 'Republic Services', 'Amazon Robotics', 'VidMob', 'Paycom', 'LexisNexis Legal & Professional']\n"
     ]
    }
   ],
   "source": [
    "companies_ds1 = list(salaryDataframe[salaryDataframe.position == \"Data Scientist I\"].companyName)\n",
    "print(len(companies_ds1))\n",
    "print(companies_ds1)"
   ]
  },
  {
   "cell_type": "code",
   "execution_count": 17,
   "id": "17513da7",
   "metadata": {},
   "outputs": [
    {
     "data": {
      "text/html": [
       "<div>\n",
       "<style scoped>\n",
       "    .dataframe tbody tr th:only-of-type {\n",
       "        vertical-align: middle;\n",
       "    }\n",
       "\n",
       "    .dataframe tbody tr th {\n",
       "        vertical-align: top;\n",
       "    }\n",
       "\n",
       "    .dataframe thead th {\n",
       "        text-align: right;\n",
       "    }\n",
       "</style>\n",
       "<table border=\"1\" class=\"dataframe\">\n",
       "  <thead>\n",
       "    <tr style=\"text-align: right;\">\n",
       "      <th></th>\n",
       "      <th>companyName</th>\n",
       "      <th>companyRating</th>\n",
       "      <th>position</th>\n",
       "      <th>sampleSize</th>\n",
       "      <th>openJobs</th>\n",
       "      <th>salaryLow</th>\n",
       "      <th>salaryMid</th>\n",
       "      <th>salaryHigh</th>\n",
       "    </tr>\n",
       "  </thead>\n",
       "  <tbody>\n",
       "    <tr>\n",
       "      <th>4</th>\n",
       "      <td>Amazon</td>\n",
       "      <td>3.7</td>\n",
       "      <td>Data Scientist</td>\n",
       "      <td>519</td>\n",
       "      <td>12652</td>\n",
       "      <td>164000</td>\n",
       "      <td>203114</td>\n",
       "      <td>257000</td>\n",
       "    </tr>\n",
       "    <tr>\n",
       "      <th>7</th>\n",
       "      <td>Expedia Group</td>\n",
       "      <td>4.1</td>\n",
       "      <td>Data Scientist</td>\n",
       "      <td>426</td>\n",
       "      <td>170</td>\n",
       "      <td>155000</td>\n",
       "      <td>187702</td>\n",
       "      <td>231000</td>\n",
       "    </tr>\n",
       "    <tr>\n",
       "      <th>15</th>\n",
       "      <td>Uber</td>\n",
       "      <td>3.9</td>\n",
       "      <td>Data Scientist</td>\n",
       "      <td>201</td>\n",
       "      <td>15830</td>\n",
       "      <td>159000</td>\n",
       "      <td>199401</td>\n",
       "      <td>255000</td>\n",
       "    </tr>\n",
       "    <tr>\n",
       "      <th>22</th>\n",
       "      <td>PayPal</td>\n",
       "      <td>4.0</td>\n",
       "      <td>Data Scientist</td>\n",
       "      <td>130</td>\n",
       "      <td>1061</td>\n",
       "      <td>156000</td>\n",
       "      <td>189834</td>\n",
       "      <td>235000</td>\n",
       "    </tr>\n",
       "    <tr>\n",
       "      <th>36</th>\n",
       "      <td>Verisk</td>\n",
       "      <td>3.8</td>\n",
       "      <td>Data Scientist</td>\n",
       "      <td>82</td>\n",
       "      <td>176</td>\n",
       "      <td>111000</td>\n",
       "      <td>132240</td>\n",
       "      <td>160000</td>\n",
       "    </tr>\n",
       "    <tr>\n",
       "      <th>...</th>\n",
       "      <td>...</td>\n",
       "      <td>...</td>\n",
       "      <td>...</td>\n",
       "      <td>...</td>\n",
       "      <td>...</td>\n",
       "      <td>...</td>\n",
       "      <td>...</td>\n",
       "      <td>...</td>\n",
       "    </tr>\n",
       "    <tr>\n",
       "      <th>5901</th>\n",
       "      <td>National Ecological Observatory Network</td>\n",
       "      <td>3.2</td>\n",
       "      <td>Data Scientist</td>\n",
       "      <td>1</td>\n",
       "      <td>None</td>\n",
       "      <td>89000</td>\n",
       "      <td>108674</td>\n",
       "      <td>134000</td>\n",
       "    </tr>\n",
       "    <tr>\n",
       "      <th>7059</th>\n",
       "      <td>Redstone Federal Credit Union</td>\n",
       "      <td>4.0</td>\n",
       "      <td>Data Scientist</td>\n",
       "      <td>1</td>\n",
       "      <td>11</td>\n",
       "      <td>104000</td>\n",
       "      <td>126357</td>\n",
       "      <td>156000</td>\n",
       "    </tr>\n",
       "    <tr>\n",
       "      <th>7414</th>\n",
       "      <td>Adtalem Global Education</td>\n",
       "      <td>2.9</td>\n",
       "      <td>Data Scientist</td>\n",
       "      <td>1</td>\n",
       "      <td>31</td>\n",
       "      <td>95000</td>\n",
       "      <td>117256</td>\n",
       "      <td>146000</td>\n",
       "    </tr>\n",
       "    <tr>\n",
       "      <th>7907</th>\n",
       "      <td>Dana-Farber Cancer Institute</td>\n",
       "      <td>4.0</td>\n",
       "      <td>Data Scientist</td>\n",
       "      <td>1</td>\n",
       "      <td>377</td>\n",
       "      <td>97000</td>\n",
       "      <td>120811</td>\n",
       "      <td>152000</td>\n",
       "    </tr>\n",
       "    <tr>\n",
       "      <th>8150</th>\n",
       "      <td>Limeade</td>\n",
       "      <td>2.9</td>\n",
       "      <td>Data Scientist</td>\n",
       "      <td>1</td>\n",
       "      <td>None</td>\n",
       "      <td>127000</td>\n",
       "      <td>153972</td>\n",
       "      <td>189000</td>\n",
       "    </tr>\n",
       "  </tbody>\n",
       "</table>\n",
       "<p>79 rows × 8 columns</p>\n",
       "</div>"
      ],
      "text/plain": [
       "                                  companyName companyRating        position  \\\n",
       "4                                      Amazon           3.7  Data Scientist   \n",
       "7                               Expedia Group           4.1  Data Scientist   \n",
       "15                                       Uber           3.9  Data Scientist   \n",
       "22                                     PayPal           4.0  Data Scientist   \n",
       "36                                     Verisk           3.8  Data Scientist   \n",
       "...                                       ...           ...             ...   \n",
       "5901  National Ecological Observatory Network           3.2  Data Scientist   \n",
       "7059            Redstone Federal Credit Union           4.0  Data Scientist   \n",
       "7414                 Adtalem Global Education           2.9  Data Scientist   \n",
       "7907             Dana-Farber Cancer Institute           4.0  Data Scientist   \n",
       "8150                                  Limeade           2.9  Data Scientist   \n",
       "\n",
       "     sampleSize openJobs salaryLow salaryMid salaryHigh  \n",
       "4           519    12652    164000    203114     257000  \n",
       "7           426      170    155000    187702     231000  \n",
       "15          201    15830    159000    199401     255000  \n",
       "22          130     1061    156000    189834     235000  \n",
       "36           82      176    111000    132240     160000  \n",
       "...         ...      ...       ...       ...        ...  \n",
       "5901          1     None     89000    108674     134000  \n",
       "7059          1       11    104000    126357     156000  \n",
       "7414          1       31     95000    117256     146000  \n",
       "7907          1      377     97000    120811     152000  \n",
       "8150          1     None    127000    153972     189000  \n",
       "\n",
       "[79 rows x 8 columns]"
      ]
     },
     "execution_count": 17,
     "metadata": {},
     "output_type": "execute_result"
    }
   ],
   "source": [
    "salaryDataframe[(salaryDataframe.companyName.isin(companies_ds1)) & (salaryDataframe.position == \"Data Scientist\")]"
   ]
  },
  {
   "cell_type": "markdown",
   "id": "26c26739",
   "metadata": {},
   "source": [
    "Out of the 101 records that have the position of \"Data Scientist I\", 79 of those records have a record for the same company with \"Data Scientist\" as the position.\n",
    "\n",
    "Thus, since most of the records with the position of \"Data Scientist I\" are duplicates, all 101 of these records will be removed from the dataset."
   ]
  },
  {
   "cell_type": "code",
   "execution_count": 18,
   "id": "fec446b6",
   "metadata": {},
   "outputs": [
    {
     "data": {
      "text/html": [
       "<div>\n",
       "<style scoped>\n",
       "    .dataframe tbody tr th:only-of-type {\n",
       "        vertical-align: middle;\n",
       "    }\n",
       "\n",
       "    .dataframe tbody tr th {\n",
       "        vertical-align: top;\n",
       "    }\n",
       "\n",
       "    .dataframe thead th {\n",
       "        text-align: right;\n",
       "    }\n",
       "</style>\n",
       "<table border=\"1\" class=\"dataframe\">\n",
       "  <thead>\n",
       "    <tr style=\"text-align: right;\">\n",
       "      <th></th>\n",
       "      <th>companyName</th>\n",
       "      <th>companyRating</th>\n",
       "      <th>position</th>\n",
       "      <th>sampleSize</th>\n",
       "      <th>openJobs</th>\n",
       "      <th>salaryLow</th>\n",
       "      <th>salaryMid</th>\n",
       "      <th>salaryHigh</th>\n",
       "    </tr>\n",
       "  </thead>\n",
       "  <tbody>\n",
       "    <tr>\n",
       "      <th>0</th>\n",
       "      <td>Meta</td>\n",
       "      <td>3.9</td>\n",
       "      <td>Data Scientist</td>\n",
       "      <td>1499</td>\n",
       "      <td>722</td>\n",
       "      <td>200000</td>\n",
       "      <td>247842</td>\n",
       "      <td>313000</td>\n",
       "    </tr>\n",
       "    <tr>\n",
       "      <th>1</th>\n",
       "      <td>Ascendum Solutions</td>\n",
       "      <td>4.4</td>\n",
       "      <td>Data Scientist</td>\n",
       "      <td>602</td>\n",
       "      <td>None</td>\n",
       "      <td>105000</td>\n",
       "      <td>129784</td>\n",
       "      <td>162000</td>\n",
       "    </tr>\n",
       "    <tr>\n",
       "      <th>2</th>\n",
       "      <td>IBM</td>\n",
       "      <td>3.9</td>\n",
       "      <td>Data Scientist</td>\n",
       "      <td>585</td>\n",
       "      <td>5764</td>\n",
       "      <td>126000</td>\n",
       "      <td>155882</td>\n",
       "      <td>195000</td>\n",
       "    </tr>\n",
       "    <tr>\n",
       "      <th>3</th>\n",
       "      <td>Google</td>\n",
       "      <td>4.4</td>\n",
       "      <td>Data Scientist</td>\n",
       "      <td>538</td>\n",
       "      <td>1598</td>\n",
       "      <td>188000</td>\n",
       "      <td>235591</td>\n",
       "      <td>301000</td>\n",
       "    </tr>\n",
       "    <tr>\n",
       "      <th>4</th>\n",
       "      <td>Amazon</td>\n",
       "      <td>3.7</td>\n",
       "      <td>Data Scientist</td>\n",
       "      <td>519</td>\n",
       "      <td>12652</td>\n",
       "      <td>164000</td>\n",
       "      <td>203114</td>\n",
       "      <td>257000</td>\n",
       "    </tr>\n",
       "    <tr>\n",
       "      <th>...</th>\n",
       "      <td>...</td>\n",
       "      <td>...</td>\n",
       "      <td>...</td>\n",
       "      <td>...</td>\n",
       "      <td>...</td>\n",
       "      <td>...</td>\n",
       "      <td>...</td>\n",
       "      <td>...</td>\n",
       "    </tr>\n",
       "    <tr>\n",
       "      <th>9196</th>\n",
       "      <td>Carbon Health</td>\n",
       "      <td>3.3</td>\n",
       "      <td>Data Scientist</td>\n",
       "      <td>1</td>\n",
       "      <td>314</td>\n",
       "      <td>113000</td>\n",
       "      <td>141138</td>\n",
       "      <td>178000</td>\n",
       "    </tr>\n",
       "    <tr>\n",
       "      <th>9197</th>\n",
       "      <td>All American Healthcare</td>\n",
       "      <td>3.1</td>\n",
       "      <td>Data Scientist</td>\n",
       "      <td>1</td>\n",
       "      <td>13433</td>\n",
       "      <td>96000</td>\n",
       "      <td>119336</td>\n",
       "      <td>150000</td>\n",
       "    </tr>\n",
       "    <tr>\n",
       "      <th>9198</th>\n",
       "      <td>Designer Brands</td>\n",
       "      <td>3.7</td>\n",
       "      <td>Data Scientist</td>\n",
       "      <td>1</td>\n",
       "      <td>42</td>\n",
       "      <td>108000</td>\n",
       "      <td>131418</td>\n",
       "      <td>161000</td>\n",
       "    </tr>\n",
       "    <tr>\n",
       "      <th>9199</th>\n",
       "      <td>Ascent (UK)</td>\n",
       "      <td>4.5</td>\n",
       "      <td>Data Scientist</td>\n",
       "      <td>1</td>\n",
       "      <td>None</td>\n",
       "      <td>107000</td>\n",
       "      <td>133588</td>\n",
       "      <td>168000</td>\n",
       "    </tr>\n",
       "    <tr>\n",
       "      <th>9200</th>\n",
       "      <td>Mr. John Portable Toilet Rental</td>\n",
       "      <td>4.4</td>\n",
       "      <td>Data Scientist</td>\n",
       "      <td>1</td>\n",
       "      <td>4</td>\n",
       "      <td>10000</td>\n",
       "      <td>11835</td>\n",
       "      <td>15000</td>\n",
       "    </tr>\n",
       "  </tbody>\n",
       "</table>\n",
       "<p>7854 rows × 8 columns</p>\n",
       "</div>"
      ],
      "text/plain": [
       "                          companyName companyRating        position  \\\n",
       "0                                Meta           3.9  Data Scientist   \n",
       "1                  Ascendum Solutions           4.4  Data Scientist   \n",
       "2                                 IBM           3.9  Data Scientist   \n",
       "3                              Google           4.4  Data Scientist   \n",
       "4                              Amazon           3.7  Data Scientist   \n",
       "...                               ...           ...             ...   \n",
       "9196                    Carbon Health           3.3  Data Scientist   \n",
       "9197          All American Healthcare           3.1  Data Scientist   \n",
       "9198                  Designer Brands           3.7  Data Scientist   \n",
       "9199                      Ascent (UK)           4.5  Data Scientist   \n",
       "9200  Mr. John Portable Toilet Rental           4.4  Data Scientist   \n",
       "\n",
       "     sampleSize openJobs salaryLow salaryMid salaryHigh  \n",
       "0          1499      722    200000    247842     313000  \n",
       "1           602     None    105000    129784     162000  \n",
       "2           585     5764    126000    155882     195000  \n",
       "3           538     1598    188000    235591     301000  \n",
       "4           519    12652    164000    203114     257000  \n",
       "...         ...      ...       ...       ...        ...  \n",
       "9196          1      314    113000    141138     178000  \n",
       "9197          1    13433     96000    119336     150000  \n",
       "9198          1       42    108000    131418     161000  \n",
       "9199          1     None    107000    133588     168000  \n",
       "9200          1        4     10000     11835      15000  \n",
       "\n",
       "[7854 rows x 8 columns]"
      ]
     },
     "execution_count": 18,
     "metadata": {},
     "output_type": "execute_result"
    }
   ],
   "source": [
    "# remove the rows with position of \"Data Scientist I\"\n",
    "salaryDataframe = salaryDataframe[salaryDataframe.position != \"Data Scientist I\"]\n",
    "salaryDataframe"
   ]
  },
  {
   "cell_type": "markdown",
   "id": "e8ceaa0a",
   "metadata": {},
   "source": [
    "Next, let's take a look at the salary numbers."
   ]
  },
  {
   "cell_type": "code",
   "execution_count": 19,
   "id": "e6956214",
   "metadata": {},
   "outputs": [
    {
     "data": {
      "text/plain": [
       "<AxesSubplot:>"
      ]
     },
     "execution_count": 19,
     "metadata": {},
     "output_type": "execute_result"
    },
    {
     "data": {
      "image/png": "[encoded data removed]",
      "text/plain": [
       "<Figure size 432x288 with 1 Axes>"
      ]
     },
     "metadata": {
      "needs_background": "light"
     },
     "output_type": "display_data"
    }
   ],
   "source": [
    "salaryDataframe.salaryLow.hist(bins = 20)"
   ]
  },
  {
   "cell_type": "markdown",
   "id": "3852076b",
   "metadata": {},
   "source": [
    "In looking at the histogram of the salary lows, we see that it is pretty normally distributed but there is an odd portion of salaries that are very low compared to the rest.\n",
    "\n",
    "Some of these are values that are listed as an hourly wage value rather than an annual salary value. So we need to convert these from hourly to annual.\n",
    "\n",
    "The formula for converting an hourly wage to an annual salary will be Annual Salary = Hourly Wage × Hours Worked per Week × Weeks Worked per Year where hours worked per week = 40 and weeks worked per year = 52.\n",
    "\n",
    "Others are values that are imbetween being an hourly wage or an annual salary. For example, 10,000 is way too low for an annual salary but way too high for an hourly wage. These values will be removed from the dataset.\n",
    "\n",
    "the cut off point of acceptable hourly wage values will be based on the max value in the distribution. For example, if the max annual salary is 175,000, that would equate to roughly 84/hour."
   ]
  },
  {
   "cell_type": "code",
   "execution_count": 20,
   "id": "68de8e95",
   "metadata": {},
   "outputs": [
    {
     "data": {
      "text/plain": [
       "200000"
      ]
     },
     "execution_count": 20,
     "metadata": {},
     "output_type": "execute_result"
    }
   ],
   "source": [
    "# determine the max annual salary number in the salary low distribution\n",
    "max(salaryDataframe.salaryLow)"
   ]
  },
  {
   "cell_type": "code",
   "execution_count": 21,
   "id": "ced4c540",
   "metadata": {},
   "outputs": [
    {
     "data": {
      "text/plain": [
       "96.15384615384616"
      ]
     },
     "execution_count": 21,
     "metadata": {},
     "output_type": "execute_result"
    }
   ],
   "source": [
    "# determine the hourly wage cut off point based on the max annual salary number\n",
    "200000 / 52 / 40"
   ]
  },
  {
   "cell_type": "code",
   "execution_count": 22,
   "id": "906741e3",
   "metadata": {},
   "outputs": [
    {
     "data": {
      "text/plain": [
       "70000    1\n",
       "69000    1\n",
       "67000    1\n",
       "15000    1\n",
       "14000    2\n",
       "        ..\n",
       "38       7\n",
       "37       6\n",
       "36       1\n",
       "35       5\n",
       "34       2\n",
       "Name: salaryLow, Length: 61, dtype: int64"
      ]
     },
     "execution_count": 22,
     "metadata": {},
     "output_type": "execute_result"
    }
   ],
   "source": [
    "# determine the min annual salary number in the salary low distribution\n",
    "salaryDataframe[(salaryDataframe.salaryLow >= 0) & (salaryDataframe.salaryLow <= 70000)].salaryLow.value_counts().sort_index(ascending = False)"
   ]
  },
  {
   "cell_type": "markdown",
   "id": "cca4fa2e",
   "metadata": {},
   "source": [
    "For the salary lows, we have calculated that anything less than or equal to 96.15 is an hourly wage that should be converted to an annual salary, and anything greater than 96.15 and less than or equal to 15,000 is an inconclusive value and should be removed from the dataset."
   ]
  },
  {
   "cell_type": "code",
   "execution_count": 23,
   "id": "3667ae4a",
   "metadata": {},
   "outputs": [
    {
     "data": {
      "text/html": [
       "<div>\n",
       "<style scoped>\n",
       "    .dataframe tbody tr th:only-of-type {\n",
       "        vertical-align: middle;\n",
       "    }\n",
       "\n",
       "    .dataframe tbody tr th {\n",
       "        vertical-align: top;\n",
       "    }\n",
       "\n",
       "    .dataframe thead th {\n",
       "        text-align: right;\n",
       "    }\n",
       "</style>\n",
       "<table border=\"1\" class=\"dataframe\">\n",
       "  <thead>\n",
       "    <tr style=\"text-align: right;\">\n",
       "      <th></th>\n",
       "      <th>companyName</th>\n",
       "      <th>companyRating</th>\n",
       "      <th>position</th>\n",
       "      <th>sampleSize</th>\n",
       "      <th>openJobs</th>\n",
       "      <th>salaryLow</th>\n",
       "      <th>salaryMid</th>\n",
       "      <th>salaryHigh</th>\n",
       "    </tr>\n",
       "  </thead>\n",
       "  <tbody>\n",
       "    <tr>\n",
       "      <th>0</th>\n",
       "      <td>Meta</td>\n",
       "      <td>3.9</td>\n",
       "      <td>Data Scientist</td>\n",
       "      <td>1499</td>\n",
       "      <td>722</td>\n",
       "      <td>200000</td>\n",
       "      <td>247842</td>\n",
       "      <td>313000</td>\n",
       "    </tr>\n",
       "    <tr>\n",
       "      <th>1</th>\n",
       "      <td>Ascendum Solutions</td>\n",
       "      <td>4.4</td>\n",
       "      <td>Data Scientist</td>\n",
       "      <td>602</td>\n",
       "      <td>None</td>\n",
       "      <td>105000</td>\n",
       "      <td>129784</td>\n",
       "      <td>162000</td>\n",
       "    </tr>\n",
       "    <tr>\n",
       "      <th>2</th>\n",
       "      <td>IBM</td>\n",
       "      <td>3.9</td>\n",
       "      <td>Data Scientist</td>\n",
       "      <td>585</td>\n",
       "      <td>5764</td>\n",
       "      <td>126000</td>\n",
       "      <td>155882</td>\n",
       "      <td>195000</td>\n",
       "    </tr>\n",
       "    <tr>\n",
       "      <th>3</th>\n",
       "      <td>Google</td>\n",
       "      <td>4.4</td>\n",
       "      <td>Data Scientist</td>\n",
       "      <td>538</td>\n",
       "      <td>1598</td>\n",
       "      <td>188000</td>\n",
       "      <td>235591</td>\n",
       "      <td>301000</td>\n",
       "    </tr>\n",
       "    <tr>\n",
       "      <th>4</th>\n",
       "      <td>Amazon</td>\n",
       "      <td>3.7</td>\n",
       "      <td>Data Scientist</td>\n",
       "      <td>519</td>\n",
       "      <td>12652</td>\n",
       "      <td>164000</td>\n",
       "      <td>203114</td>\n",
       "      <td>257000</td>\n",
       "    </tr>\n",
       "    <tr>\n",
       "      <th>...</th>\n",
       "      <td>...</td>\n",
       "      <td>...</td>\n",
       "      <td>...</td>\n",
       "      <td>...</td>\n",
       "      <td>...</td>\n",
       "      <td>...</td>\n",
       "      <td>...</td>\n",
       "      <td>...</td>\n",
       "    </tr>\n",
       "    <tr>\n",
       "      <th>9195</th>\n",
       "      <td>Global Fishing Watch</td>\n",
       "      <td>5.0</td>\n",
       "      <td>Data Scientist</td>\n",
       "      <td>1</td>\n",
       "      <td>None</td>\n",
       "      <td>91000</td>\n",
       "      <td>113696</td>\n",
       "      <td>143000</td>\n",
       "    </tr>\n",
       "    <tr>\n",
       "      <th>9196</th>\n",
       "      <td>Carbon Health</td>\n",
       "      <td>3.3</td>\n",
       "      <td>Data Scientist</td>\n",
       "      <td>1</td>\n",
       "      <td>314</td>\n",
       "      <td>113000</td>\n",
       "      <td>141138</td>\n",
       "      <td>178000</td>\n",
       "    </tr>\n",
       "    <tr>\n",
       "      <th>9197</th>\n",
       "      <td>All American Healthcare</td>\n",
       "      <td>3.1</td>\n",
       "      <td>Data Scientist</td>\n",
       "      <td>1</td>\n",
       "      <td>13433</td>\n",
       "      <td>96000</td>\n",
       "      <td>119336</td>\n",
       "      <td>150000</td>\n",
       "    </tr>\n",
       "    <tr>\n",
       "      <th>9198</th>\n",
       "      <td>Designer Brands</td>\n",
       "      <td>3.7</td>\n",
       "      <td>Data Scientist</td>\n",
       "      <td>1</td>\n",
       "      <td>42</td>\n",
       "      <td>108000</td>\n",
       "      <td>131418</td>\n",
       "      <td>161000</td>\n",
       "    </tr>\n",
       "    <tr>\n",
       "      <th>9199</th>\n",
       "      <td>Ascent (UK)</td>\n",
       "      <td>4.5</td>\n",
       "      <td>Data Scientist</td>\n",
       "      <td>1</td>\n",
       "      <td>None</td>\n",
       "      <td>107000</td>\n",
       "      <td>133588</td>\n",
       "      <td>168000</td>\n",
       "    </tr>\n",
       "  </tbody>\n",
       "</table>\n",
       "<p>7630 rows × 8 columns</p>\n",
       "</div>"
      ],
      "text/plain": [
       "                  companyName companyRating        position sampleSize  \\\n",
       "0                        Meta           3.9  Data Scientist       1499   \n",
       "1          Ascendum Solutions           4.4  Data Scientist        602   \n",
       "2                         IBM           3.9  Data Scientist        585   \n",
       "3                      Google           4.4  Data Scientist        538   \n",
       "4                      Amazon           3.7  Data Scientist        519   \n",
       "...                       ...           ...             ...        ...   \n",
       "9195     Global Fishing Watch           5.0  Data Scientist          1   \n",
       "9196            Carbon Health           3.3  Data Scientist          1   \n",
       "9197  All American Healthcare           3.1  Data Scientist          1   \n",
       "9198          Designer Brands           3.7  Data Scientist          1   \n",
       "9199              Ascent (UK)           4.5  Data Scientist          1   \n",
       "\n",
       "     openJobs salaryLow salaryMid salaryHigh  \n",
       "0         722    200000    247842     313000  \n",
       "1        None    105000    129784     162000  \n",
       "2        5764    126000    155882     195000  \n",
       "3        1598    188000    235591     301000  \n",
       "4       12652    164000    203114     257000  \n",
       "...       ...       ...       ...        ...  \n",
       "9195     None     91000    113696     143000  \n",
       "9196      314    113000    141138     178000  \n",
       "9197    13433     96000    119336     150000  \n",
       "9198       42    108000    131418     161000  \n",
       "9199     None    107000    133588     168000  \n",
       "\n",
       "[7630 rows x 8 columns]"
      ]
     },
     "execution_count": 23,
     "metadata": {},
     "output_type": "execute_result"
    }
   ],
   "source": [
    "# remove salary lows that are greater than 96.15 and less than or equal to 15,000\n",
    "salaryDataframe = salaryDataframe[(salaryDataframe.salaryLow <= 96.15) | (salaryDataframe.salaryLow > 15000)]\n",
    "salaryDataframe"
   ]
  },
  {
   "cell_type": "code",
   "execution_count": 24,
   "id": "77968873",
   "metadata": {},
   "outputs": [
    {
     "name": "stderr",
     "output_type": "stream",
     "text": [
      "C:\\Users\\Tyler\\AppData\\Local\\Temp\\ipykernel_24444\\986096319.py:2: SettingWithCopyWarning: \n",
      "A value is trying to be set on a copy of a slice from a DataFrame.\n",
      "Try using .loc[row_indexer,col_indexer] = value instead\n",
      "\n",
      "See the caveats in the documentation: https://pandas.pydata.org/pandas-docs/stable/user_guide/indexing.html#returning-a-view-versus-a-copy\n",
      "  salaryDataframe[\"salaryLow\"] = np.where(salaryDataframe[\"salaryLow\"] <= 96.15, salaryDataframe[\"salaryLow\"] * 40 * 52, salaryDataframe[\"salaryLow\"])\n"
     ]
    },
    {
     "data": {
      "text/plain": [
       "<AxesSubplot:>"
      ]
     },
     "execution_count": 24,
     "metadata": {},
     "output_type": "execute_result"
    },
    {
     "data": {
      "image/png": "[encoded data removed]",
      "text/plain": [
       "<Figure size 432x288 with 1 Axes>"
      ]
     },
     "metadata": {
      "needs_background": "light"
     },
     "output_type": "display_data"
    }
   ],
   "source": [
    "# convert the salary lows hourly wages to annual salary\n",
    "salaryDataframe[\"salaryLow\"] = np.where(salaryDataframe[\"salaryLow\"] <= 96.15, salaryDataframe[\"salaryLow\"] * 40 * 52, salaryDataframe[\"salaryLow\"])\n",
    "salaryDataframe.salaryLow.hist(bins = 20)"
   ]
  },
  {
   "cell_type": "markdown",
   "id": "9249ec22",
   "metadata": {},
   "source": [
    "We can see that the distribution of the salary lows is now cleaned up.\n",
    "\n",
    "We will perform the same logic on the salary mids and the salary highs."
   ]
  },
  {
   "cell_type": "code",
   "execution_count": 25,
   "id": "b00c903b",
   "metadata": {},
   "outputs": [
    {
     "data": {
      "text/plain": [
       "<AxesSubplot:>"
      ]
     },
     "execution_count": 25,
     "metadata": {},
     "output_type": "execute_result"
    },
    {
     "data": {
      "image/png": "[encoded data removed]",
      "text/plain": [
       "<Figure size 432x288 with 1 Axes>"
      ]
     },
     "metadata": {
      "needs_background": "light"
     },
     "output_type": "display_data"
    }
   ],
   "source": [
    "salaryDataframe.salaryMid.hist(bins = 20)"
   ]
  },
  {
   "cell_type": "code",
   "execution_count": 26,
   "id": "1848f679",
   "metadata": {},
   "outputs": [
    {
     "data": {
      "text/plain": [
       "247842"
      ]
     },
     "execution_count": 26,
     "metadata": {},
     "output_type": "execute_result"
    }
   ],
   "source": [
    "# determine the max annual salary number in the salary mid distribution\n",
    "max(salaryDataframe.salaryMid)"
   ]
  },
  {
   "cell_type": "code",
   "execution_count": 27,
   "id": "de4d2233",
   "metadata": {},
   "outputs": [
    {
     "data": {
      "text/plain": [
       "119.15480769230768"
      ]
     },
     "execution_count": 27,
     "metadata": {},
     "output_type": "execute_result"
    }
   ],
   "source": [
    "# determine the hourly wage cut off point based on the max annual salary number\n",
    "247842 / 52 / 40"
   ]
  },
  {
   "cell_type": "code",
   "execution_count": 28,
   "id": "9173d523",
   "metadata": {},
   "outputs": [
    {
     "data": {
      "text/plain": [
       "85781     1\n",
       "84701     1\n",
       "106       2\n",
       "98        2\n",
       "97        1\n",
       "96        2\n",
       "93        2\n",
       "92        3\n",
       "91        3\n",
       "89        5\n",
       "88        3\n",
       "87        4\n",
       "86        2\n",
       "85        6\n",
       "84       10\n",
       "83       11\n",
       "82        7\n",
       "81        3\n",
       "80        8\n",
       "79       11\n",
       "78        8\n",
       "77        8\n",
       "76        8\n",
       "75        5\n",
       "74       16\n",
       "73       18\n",
       "72       17\n",
       "71       20\n",
       "70       17\n",
       "69       19\n",
       "68       18\n",
       "67       20\n",
       "66       19\n",
       "65       14\n",
       "64       25\n",
       "63       19\n",
       "62       36\n",
       "61       40\n",
       "60       37\n",
       "59       52\n",
       "58       22\n",
       "57       23\n",
       "56       15\n",
       "55       19\n",
       "54       20\n",
       "53       17\n",
       "52       23\n",
       "51       13\n",
       "50       12\n",
       "49       10\n",
       "48        3\n",
       "47        9\n",
       "46        3\n",
       "45        2\n",
       "44        4\n",
       "43        1\n",
       "42        2\n",
       "Name: salaryMid, dtype: int64"
      ]
     },
     "execution_count": 28,
     "metadata": {},
     "output_type": "execute_result"
    }
   ],
   "source": [
    "# determine the min annual salary number in the salary mid distribution\n",
    "salaryDataframe[(salaryDataframe.salaryMid >= 0) & (salaryDataframe.salaryMid <= 86000)].salaryMid.value_counts().sort_index(ascending = False)"
   ]
  },
  {
   "cell_type": "markdown",
   "id": "8c2a9868",
   "metadata": {},
   "source": [
    "For the salary mids, we have calculated that anything less than or equal to 119.15 is an hourly wage that should be converted to an annual salary. We do not have any inconclusive values to handle since those records have already been removed during the salary lows cleanup effort."
   ]
  },
  {
   "cell_type": "code",
   "execution_count": 29,
   "id": "4148bde1",
   "metadata": {},
   "outputs": [
    {
     "name": "stderr",
     "output_type": "stream",
     "text": [
      "C:\\Users\\Tyler\\AppData\\Local\\Temp\\ipykernel_24444\\25759452.py:2: SettingWithCopyWarning: \n",
      "A value is trying to be set on a copy of a slice from a DataFrame.\n",
      "Try using .loc[row_indexer,col_indexer] = value instead\n",
      "\n",
      "See the caveats in the documentation: https://pandas.pydata.org/pandas-docs/stable/user_guide/indexing.html#returning-a-view-versus-a-copy\n",
      "  salaryDataframe[\"salaryMid\"] = np.where(salaryDataframe[\"salaryMid\"] <= 119.15, salaryDataframe[\"salaryMid\"] * 40 * 52, salaryDataframe[\"salaryMid\"])\n"
     ]
    },
    {
     "data": {
      "text/plain": [
       "<AxesSubplot:>"
      ]
     },
     "execution_count": 29,
     "metadata": {},
     "output_type": "execute_result"
    },
    {
     "data": {
      "image/png": "[encoded data removed]",
      "text/plain": [
       "<Figure size 432x288 with 1 Axes>"
      ]
     },
     "metadata": {
      "needs_background": "light"
     },
     "output_type": "display_data"
    }
   ],
   "source": [
    "# convert the salary mids hourly wages to annual salary\n",
    "salaryDataframe[\"salaryMid\"] = np.where(salaryDataframe[\"salaryMid\"] <= 119.15, salaryDataframe[\"salaryMid\"] * 40 * 52, salaryDataframe[\"salaryMid\"])\n",
    "salaryDataframe.salaryMid.hist(bins = 20)"
   ]
  },
  {
   "cell_type": "code",
   "execution_count": 30,
   "id": "b182c72e",
   "metadata": {},
   "outputs": [
    {
     "data": {
      "text/plain": [
       "<AxesSubplot:>"
      ]
     },
     "execution_count": 30,
     "metadata": {},
     "output_type": "execute_result"
    },
    {
     "data": {
      "image/png": "[encoded data removed]",
      "text/plain": [
       "<Figure size 432x288 with 1 Axes>"
      ]
     },
     "metadata": {
      "needs_background": "light"
     },
     "output_type": "display_data"
    }
   ],
   "source": [
    "salaryDataframe.salaryHigh.hist(bins = 20)"
   ]
  },
  {
   "cell_type": "code",
   "execution_count": 31,
   "id": "b170527e",
   "metadata": {},
   "outputs": [
    {
     "data": {
      "text/plain": [
       "313000"
      ]
     },
     "execution_count": 31,
     "metadata": {},
     "output_type": "execute_result"
    }
   ],
   "source": [
    "# determine the max annual salary number in the salary high distribution\n",
    "max(salaryDataframe.salaryHigh)"
   ]
  },
  {
   "cell_type": "code",
   "execution_count": 32,
   "id": "7678a37a",
   "metadata": {},
   "outputs": [
    {
     "data": {
      "text/plain": [
       "150.48076923076923"
      ]
     },
     "execution_count": 32,
     "metadata": {},
     "output_type": "execute_result"
    }
   ],
   "source": [
    "# determine the hourly wage cut off point based on the max annual salary number\n",
    "313000 / 52 / 40"
   ]
  },
  {
   "cell_type": "code",
   "execution_count": 33,
   "id": "cbf85a96",
   "metadata": {},
   "outputs": [
    {
     "data": {
      "text/plain": [
       "109000    2\n",
       "108000    2\n",
       "107000    1\n",
       "106000    2\n",
       "136       1\n",
       "         ..\n",
       "57        3\n",
       "56        3\n",
       "55        3\n",
       "54        2\n",
       "53        1\n",
       "Name: salaryHigh, Length: 73, dtype: int64"
      ]
     },
     "execution_count": 33,
     "metadata": {},
     "output_type": "execute_result"
    }
   ],
   "source": [
    "# determine the min annual salary number in the salary high distribution\n",
    "salaryDataframe[(salaryDataframe.salaryHigh >= 0) & (salaryDataframe.salaryHigh <= 110000)].salaryHigh.value_counts().sort_index(ascending = False)"
   ]
  },
  {
   "cell_type": "markdown",
   "id": "ae276930",
   "metadata": {},
   "source": [
    "For the salary highs, we have calculated that anything less than or equal to 150.48 is an hourly wage that should be converted to an annual salary. We do not have any inconclusive values to handle since those records have already been removed during the salary lows cleanup effort."
   ]
  },
  {
   "cell_type": "code",
   "execution_count": 34,
   "id": "c98a5843",
   "metadata": {},
   "outputs": [
    {
     "name": "stderr",
     "output_type": "stream",
     "text": [
      "C:\\Users\\Tyler\\AppData\\Local\\Temp\\ipykernel_24444\\1995057215.py:2: SettingWithCopyWarning: \n",
      "A value is trying to be set on a copy of a slice from a DataFrame.\n",
      "Try using .loc[row_indexer,col_indexer] = value instead\n",
      "\n",
      "See the caveats in the documentation: https://pandas.pydata.org/pandas-docs/stable/user_guide/indexing.html#returning-a-view-versus-a-copy\n",
      "  salaryDataframe[\"salaryHigh\"] = np.where(salaryDataframe[\"salaryHigh\"] <= 150.48, salaryDataframe[\"salaryHigh\"] * 40 * 52, salaryDataframe[\"salaryHigh\"])\n"
     ]
    },
    {
     "data": {
      "text/plain": [
       "<AxesSubplot:>"
      ]
     },
     "execution_count": 34,
     "metadata": {},
     "output_type": "execute_result"
    },
    {
     "data": {
      "image/png": "[encoded data removed]",
      "text/plain": [
       "<Figure size 432x288 with 1 Axes>"
      ]
     },
     "metadata": {
      "needs_background": "light"
     },
     "output_type": "display_data"
    }
   ],
   "source": [
    "# convert the salary highs hourly wages to annual salary\n",
    "salaryDataframe[\"salaryHigh\"] = np.where(salaryDataframe[\"salaryHigh\"] <= 150.48, salaryDataframe[\"salaryHigh\"] * 40 * 52, salaryDataframe[\"salaryHigh\"])\n",
    "salaryDataframe.salaryHigh.hist(bins = 20)"
   ]
  },
  {
   "cell_type": "markdown",
   "id": "27413545",
   "metadata": {},
   "source": [
    "With the distributions of salary data looking reasonable, we can be confident that the data is trustworthy and the numbers make sense."
   ]
  },
  {
   "cell_type": "markdown",
   "id": "eced74c3",
   "metadata": {},
   "source": [
    "As a final data cleansing task, we need to make sure that we do not have duplicate records. We should only have one record per company. For example, we should not have 2 records for Amazon Data Scientist. This could skew the results."
   ]
  },
  {
   "cell_type": "code",
   "execution_count": 35,
   "id": "52b8a499",
   "metadata": {},
   "outputs": [
    {
     "name": "stdout",
     "output_type": "stream",
     "text": [
      "7630\n",
      "7450\n"
     ]
    }
   ],
   "source": [
    "# check for duplicate companies in the dataset\n",
    "print(len(salaryDataframe))\n",
    "print(len(set(salaryDataframe.companyName)))"
   ]
  },
  {
   "cell_type": "markdown",
   "id": "571f0216",
   "metadata": {},
   "source": [
    "Out of the 7,742 records in the dataset, there are 7,556 unique companies, which indicates that there are some duplicates. Let's take a closer look at these duplicates and see how they might be affecting the data."
   ]
  },
  {
   "cell_type": "code",
   "execution_count": 36,
   "id": "3c3e27e7",
   "metadata": {},
   "outputs": [
    {
     "data": {
      "text/plain": [
       "United Solutions      3\n",
       "XYZ                   3\n",
       "John Deere            3\n",
       "Verizon               3\n",
       "Northrop Grumman      3\n",
       "                     ..\n",
       "LSC Communications    1\n",
       "Qorvo                 1\n",
       "Tenet Healthcare      1\n",
       "Fortive               1\n",
       "Ascent (UK)           1\n",
       "Name: companyName, Length: 7450, dtype: int64"
      ]
     },
     "execution_count": 36,
     "metadata": {},
     "output_type": "execute_result"
    }
   ],
   "source": [
    "salaryDataframe.companyName.value_counts()"
   ]
  },
  {
   "cell_type": "code",
   "execution_count": 37,
   "id": "472279c7",
   "metadata": {},
   "outputs": [
    {
     "data": {
      "text/html": [
       "<div>\n",
       "<style scoped>\n",
       "    .dataframe tbody tr th:only-of-type {\n",
       "        vertical-align: middle;\n",
       "    }\n",
       "\n",
       "    .dataframe tbody tr th {\n",
       "        vertical-align: top;\n",
       "    }\n",
       "\n",
       "    .dataframe thead th {\n",
       "        text-align: right;\n",
       "    }\n",
       "</style>\n",
       "<table border=\"1\" class=\"dataframe\">\n",
       "  <thead>\n",
       "    <tr style=\"text-align: right;\">\n",
       "      <th></th>\n",
       "      <th>companyName</th>\n",
       "      <th>companyRating</th>\n",
       "      <th>position</th>\n",
       "      <th>sampleSize</th>\n",
       "      <th>openJobs</th>\n",
       "      <th>salaryLow</th>\n",
       "      <th>salaryMid</th>\n",
       "      <th>salaryHigh</th>\n",
       "    </tr>\n",
       "  </thead>\n",
       "  <tbody>\n",
       "    <tr>\n",
       "      <th>1567</th>\n",
       "      <td>United Solutions</td>\n",
       "      <td>4.2</td>\n",
       "      <td>Data Scientist</td>\n",
       "      <td>3</td>\n",
       "      <td>8</td>\n",
       "      <td>91000</td>\n",
       "      <td>110738</td>\n",
       "      <td>136000</td>\n",
       "    </tr>\n",
       "    <tr>\n",
       "      <th>2519</th>\n",
       "      <td>United Solutions</td>\n",
       "      <td>1.6</td>\n",
       "      <td>Data Scientist</td>\n",
       "      <td>2</td>\n",
       "      <td>None</td>\n",
       "      <td>101000</td>\n",
       "      <td>123653</td>\n",
       "      <td>153000</td>\n",
       "    </tr>\n",
       "    <tr>\n",
       "      <th>4922</th>\n",
       "      <td>United Solutions</td>\n",
       "      <td>3.6</td>\n",
       "      <td>Data Scientist</td>\n",
       "      <td>1</td>\n",
       "      <td>None</td>\n",
       "      <td>94000</td>\n",
       "      <td>114632</td>\n",
       "      <td>141000</td>\n",
       "    </tr>\n",
       "  </tbody>\n",
       "</table>\n",
       "</div>"
      ],
      "text/plain": [
       "           companyName companyRating        position sampleSize openJobs  \\\n",
       "1567  United Solutions           4.2  Data Scientist          3        8   \n",
       "2519  United Solutions           1.6  Data Scientist          2     None   \n",
       "4922  United Solutions           3.6  Data Scientist          1     None   \n",
       "\n",
       "     salaryLow salaryMid salaryHigh  \n",
       "1567     91000    110738     136000  \n",
       "2519    101000    123653     153000  \n",
       "4922     94000    114632     141000  "
      ]
     },
     "execution_count": 37,
     "metadata": {},
     "output_type": "execute_result"
    }
   ],
   "source": [
    "salaryDataframe[salaryDataframe.companyName == \"United Solutions\"]"
   ]
  },
  {
   "cell_type": "code",
   "execution_count": 38,
   "id": "e7a5e465",
   "metadata": {},
   "outputs": [
    {
     "data": {
      "text/html": [
       "<div>\n",
       "<style scoped>\n",
       "    .dataframe tbody tr th:only-of-type {\n",
       "        vertical-align: middle;\n",
       "    }\n",
       "\n",
       "    .dataframe tbody tr th {\n",
       "        vertical-align: top;\n",
       "    }\n",
       "\n",
       "    .dataframe thead th {\n",
       "        text-align: right;\n",
       "    }\n",
       "</style>\n",
       "<table border=\"1\" class=\"dataframe\">\n",
       "  <thead>\n",
       "    <tr style=\"text-align: right;\">\n",
       "      <th></th>\n",
       "      <th>companyName</th>\n",
       "      <th>companyRating</th>\n",
       "      <th>position</th>\n",
       "      <th>sampleSize</th>\n",
       "      <th>openJobs</th>\n",
       "      <th>salaryLow</th>\n",
       "      <th>salaryMid</th>\n",
       "      <th>salaryHigh</th>\n",
       "    </tr>\n",
       "  </thead>\n",
       "  <tbody>\n",
       "    <tr>\n",
       "      <th>97</th>\n",
       "      <td>Northrop Grumman</td>\n",
       "      <td>4.0</td>\n",
       "      <td>Data Scientist</td>\n",
       "      <td>39</td>\n",
       "      <td>3236</td>\n",
       "      <td>101000</td>\n",
       "      <td>120911</td>\n",
       "      <td>146000</td>\n",
       "    </tr>\n",
       "    <tr>\n",
       "      <th>2692</th>\n",
       "      <td>Northrop Grumman</td>\n",
       "      <td>4.1</td>\n",
       "      <td>Data Scientist</td>\n",
       "      <td>2</td>\n",
       "      <td>None</td>\n",
       "      <td>106000</td>\n",
       "      <td>127082</td>\n",
       "      <td>154000</td>\n",
       "    </tr>\n",
       "    <tr>\n",
       "      <th>3712</th>\n",
       "      <td>Northrop Grumman</td>\n",
       "      <td>4.1</td>\n",
       "      <td>Data Scientist</td>\n",
       "      <td>1</td>\n",
       "      <td>None</td>\n",
       "      <td>106000</td>\n",
       "      <td>127082</td>\n",
       "      <td>154000</td>\n",
       "    </tr>\n",
       "  </tbody>\n",
       "</table>\n",
       "</div>"
      ],
      "text/plain": [
       "           companyName companyRating        position sampleSize openJobs  \\\n",
       "97    Northrop Grumman           4.0  Data Scientist         39     3236   \n",
       "2692  Northrop Grumman           4.1  Data Scientist          2     None   \n",
       "3712  Northrop Grumman           4.1  Data Scientist          1     None   \n",
       "\n",
       "     salaryLow salaryMid salaryHigh  \n",
       "97      101000    120911     146000  \n",
       "2692    106000    127082     154000  \n",
       "3712    106000    127082     154000  "
      ]
     },
     "execution_count": 38,
     "metadata": {},
     "output_type": "execute_result"
    }
   ],
   "source": [
    "salaryDataframe[salaryDataframe.companyName == \"Northrop Grumman\"]"
   ]
  },
  {
   "cell_type": "code",
   "execution_count": 39,
   "id": "546b826a",
   "metadata": {},
   "outputs": [
    {
     "data": {
      "text/html": [
       "<div>\n",
       "<style scoped>\n",
       "    .dataframe tbody tr th:only-of-type {\n",
       "        vertical-align: middle;\n",
       "    }\n",
       "\n",
       "    .dataframe tbody tr th {\n",
       "        vertical-align: top;\n",
       "    }\n",
       "\n",
       "    .dataframe thead th {\n",
       "        text-align: right;\n",
       "    }\n",
       "</style>\n",
       "<table border=\"1\" class=\"dataframe\">\n",
       "  <thead>\n",
       "    <tr style=\"text-align: right;\">\n",
       "      <th></th>\n",
       "      <th>companyName</th>\n",
       "      <th>companyRating</th>\n",
       "      <th>position</th>\n",
       "      <th>sampleSize</th>\n",
       "      <th>openJobs</th>\n",
       "      <th>salaryLow</th>\n",
       "      <th>salaryMid</th>\n",
       "      <th>salaryHigh</th>\n",
       "    </tr>\n",
       "  </thead>\n",
       "  <tbody>\n",
       "    <tr>\n",
       "      <th>664</th>\n",
       "      <td>XYZ</td>\n",
       "      <td>3.8</td>\n",
       "      <td>Data Scientist</td>\n",
       "      <td>7</td>\n",
       "      <td>3</td>\n",
       "      <td>144000</td>\n",
       "      <td>179973</td>\n",
       "      <td>229000</td>\n",
       "    </tr>\n",
       "    <tr>\n",
       "      <th>1255</th>\n",
       "      <td>XYZ</td>\n",
       "      <td>3.7</td>\n",
       "      <td>Data Scientist</td>\n",
       "      <td>4</td>\n",
       "      <td>None</td>\n",
       "      <td>106000</td>\n",
       "      <td>132028</td>\n",
       "      <td>166000</td>\n",
       "    </tr>\n",
       "    <tr>\n",
       "      <th>4371</th>\n",
       "      <td>XYZ</td>\n",
       "      <td>3.9</td>\n",
       "      <td>Data Scientist</td>\n",
       "      <td>1</td>\n",
       "      <td>2</td>\n",
       "      <td>126000</td>\n",
       "      <td>158022</td>\n",
       "      <td>201000</td>\n",
       "    </tr>\n",
       "  </tbody>\n",
       "</table>\n",
       "</div>"
      ],
      "text/plain": [
       "     companyName companyRating        position sampleSize openJobs salaryLow  \\\n",
       "664          XYZ           3.8  Data Scientist          7        3    144000   \n",
       "1255         XYZ           3.7  Data Scientist          4     None    106000   \n",
       "4371         XYZ           3.9  Data Scientist          1        2    126000   \n",
       "\n",
       "     salaryMid salaryHigh  \n",
       "664     179973     229000  \n",
       "1255    132028     166000  \n",
       "4371    158022     201000  "
      ]
     },
     "execution_count": 39,
     "metadata": {},
     "output_type": "execute_result"
    }
   ],
   "source": [
    "salaryDataframe[salaryDataframe.companyName == \"XYZ\"]"
   ]
  },
  {
   "cell_type": "code",
   "execution_count": 40,
   "id": "7d5f23e8",
   "metadata": {},
   "outputs": [
    {
     "data": {
      "text/html": [
       "<div>\n",
       "<style scoped>\n",
       "    .dataframe tbody tr th:only-of-type {\n",
       "        vertical-align: middle;\n",
       "    }\n",
       "\n",
       "    .dataframe tbody tr th {\n",
       "        vertical-align: top;\n",
       "    }\n",
       "\n",
       "    .dataframe thead th {\n",
       "        text-align: right;\n",
       "    }\n",
       "</style>\n",
       "<table border=\"1\" class=\"dataframe\">\n",
       "  <thead>\n",
       "    <tr style=\"text-align: right;\">\n",
       "      <th></th>\n",
       "      <th>companyName</th>\n",
       "      <th>companyRating</th>\n",
       "      <th>position</th>\n",
       "      <th>sampleSize</th>\n",
       "      <th>openJobs</th>\n",
       "      <th>salaryLow</th>\n",
       "      <th>salaryMid</th>\n",
       "      <th>salaryHigh</th>\n",
       "    </tr>\n",
       "  </thead>\n",
       "  <tbody>\n",
       "    <tr>\n",
       "      <th>4714</th>\n",
       "      <td>Radiology Partners</td>\n",
       "      <td>3.3</td>\n",
       "      <td>Data Scientist</td>\n",
       "      <td>1</td>\n",
       "      <td>90</td>\n",
       "      <td>99000</td>\n",
       "      <td>121385</td>\n",
       "      <td>150000</td>\n",
       "    </tr>\n",
       "    <tr>\n",
       "      <th>5493</th>\n",
       "      <td>Radiology Partners</td>\n",
       "      <td>3.6</td>\n",
       "      <td>Data Scientist</td>\n",
       "      <td>1</td>\n",
       "      <td>None</td>\n",
       "      <td>99000</td>\n",
       "      <td>121385</td>\n",
       "      <td>150000</td>\n",
       "    </tr>\n",
       "  </tbody>\n",
       "</table>\n",
       "</div>"
      ],
      "text/plain": [
       "             companyName companyRating        position sampleSize openJobs  \\\n",
       "4714  Radiology Partners           3.3  Data Scientist          1       90   \n",
       "5493  Radiology Partners           3.6  Data Scientist          1     None   \n",
       "\n",
       "     salaryLow salaryMid salaryHigh  \n",
       "4714     99000    121385     150000  \n",
       "5493     99000    121385     150000  "
      ]
     },
     "execution_count": 40,
     "metadata": {},
     "output_type": "execute_result"
    }
   ],
   "source": [
    "salaryDataframe[salaryDataframe.companyName == \"Radiology Partners\"]"
   ]
  },
  {
   "cell_type": "code",
   "execution_count": 41,
   "id": "ad51e893",
   "metadata": {},
   "outputs": [
    {
     "data": {
      "text/html": [
       "<div>\n",
       "<style scoped>\n",
       "    .dataframe tbody tr th:only-of-type {\n",
       "        vertical-align: middle;\n",
       "    }\n",
       "\n",
       "    .dataframe tbody tr th {\n",
       "        vertical-align: top;\n",
       "    }\n",
       "\n",
       "    .dataframe thead th {\n",
       "        text-align: right;\n",
       "    }\n",
       "</style>\n",
       "<table border=\"1\" class=\"dataframe\">\n",
       "  <thead>\n",
       "    <tr style=\"text-align: right;\">\n",
       "      <th></th>\n",
       "      <th>companyName</th>\n",
       "      <th>companyRating</th>\n",
       "      <th>position</th>\n",
       "      <th>sampleSize</th>\n",
       "      <th>openJobs</th>\n",
       "      <th>salaryLow</th>\n",
       "      <th>salaryMid</th>\n",
       "      <th>salaryHigh</th>\n",
       "    </tr>\n",
       "  </thead>\n",
       "  <tbody>\n",
       "    <tr>\n",
       "      <th>75</th>\n",
       "      <td>John Deere</td>\n",
       "      <td>4.2</td>\n",
       "      <td>Data Scientist</td>\n",
       "      <td>47</td>\n",
       "      <td>776</td>\n",
       "      <td>124000</td>\n",
       "      <td>148566</td>\n",
       "      <td>181000</td>\n",
       "    </tr>\n",
       "    <tr>\n",
       "      <th>3505</th>\n",
       "      <td>John Deere</td>\n",
       "      <td>4.3</td>\n",
       "      <td>Data Scientist</td>\n",
       "      <td>1</td>\n",
       "      <td>None</td>\n",
       "      <td>131000</td>\n",
       "      <td>158398</td>\n",
       "      <td>195000</td>\n",
       "    </tr>\n",
       "    <tr>\n",
       "      <th>7994</th>\n",
       "      <td>John Deere</td>\n",
       "      <td>4.4</td>\n",
       "      <td>Data Scientist</td>\n",
       "      <td>1</td>\n",
       "      <td>None</td>\n",
       "      <td>131000</td>\n",
       "      <td>158398</td>\n",
       "      <td>195000</td>\n",
       "    </tr>\n",
       "  </tbody>\n",
       "</table>\n",
       "</div>"
      ],
      "text/plain": [
       "     companyName companyRating        position sampleSize openJobs salaryLow  \\\n",
       "75    John Deere           4.2  Data Scientist         47      776    124000   \n",
       "3505  John Deere           4.3  Data Scientist          1     None    131000   \n",
       "7994  John Deere           4.4  Data Scientist          1     None    131000   \n",
       "\n",
       "     salaryMid salaryHigh  \n",
       "75      148566     181000  \n",
       "3505    158398     195000  \n",
       "7994    158398     195000  "
      ]
     },
     "execution_count": 41,
     "metadata": {},
     "output_type": "execute_result"
    }
   ],
   "source": [
    "salaryDataframe[salaryDataframe.companyName == \"John Deere\"]"
   ]
  },
  {
   "cell_type": "markdown",
   "id": "313ab953",
   "metadata": {},
   "source": [
    "In looking at the first 5 examples of the duplicates, we can see that the duplicate records are not too different from eachother.\n",
    "\n",
    "The least complicated approach to resolving the duplicates is to just take the first record for each company.\n",
    "\n",
    "Alternatively, we could think of some way to aggregate the multiple records into one record. But this is likely not going to have that much of an impact so it's not worth the extra effort.\n",
    "\n",
    "Thus, we will just take the first record for each company."
   ]
  },
  {
   "cell_type": "code",
   "execution_count": 42,
   "id": "c09ede6f",
   "metadata": {},
   "outputs": [
    {
     "data": {
      "text/html": [
       "<div>\n",
       "<style scoped>\n",
       "    .dataframe tbody tr th:only-of-type {\n",
       "        vertical-align: middle;\n",
       "    }\n",
       "\n",
       "    .dataframe tbody tr th {\n",
       "        vertical-align: top;\n",
       "    }\n",
       "\n",
       "    .dataframe thead th {\n",
       "        text-align: right;\n",
       "    }\n",
       "</style>\n",
       "<table border=\"1\" class=\"dataframe\">\n",
       "  <thead>\n",
       "    <tr style=\"text-align: right;\">\n",
       "      <th></th>\n",
       "      <th>companyRating</th>\n",
       "      <th>position</th>\n",
       "      <th>sampleSize</th>\n",
       "      <th>openJobs</th>\n",
       "      <th>salaryLow</th>\n",
       "      <th>salaryMid</th>\n",
       "      <th>salaryHigh</th>\n",
       "    </tr>\n",
       "    <tr>\n",
       "      <th>companyName</th>\n",
       "      <th></th>\n",
       "      <th></th>\n",
       "      <th></th>\n",
       "      <th></th>\n",
       "      <th></th>\n",
       "      <th></th>\n",
       "      <th></th>\n",
       "    </tr>\n",
       "  </thead>\n",
       "  <tbody>\n",
       "    <tr>\n",
       "      <th>(no)name</th>\n",
       "      <td>3.9</td>\n",
       "      <td>Data Scientist</td>\n",
       "      <td>3</td>\n",
       "      <td>NaN</td>\n",
       "      <td>102000</td>\n",
       "      <td>124853</td>\n",
       "      <td>154000</td>\n",
       "    </tr>\n",
       "    <tr>\n",
       "      <th>+SUBSCRIBE</th>\n",
       "      <td>5.0</td>\n",
       "      <td>Data Scientist</td>\n",
       "      <td>1</td>\n",
       "      <td>NaN</td>\n",
       "      <td>112000</td>\n",
       "      <td>140768</td>\n",
       "      <td>179000</td>\n",
       "    </tr>\n",
       "    <tr>\n",
       "      <th>1-800-FLOWERS.COM, Inc.</th>\n",
       "      <td>3.1</td>\n",
       "      <td>Data Scientist</td>\n",
       "      <td>2</td>\n",
       "      <td>37.0</td>\n",
       "      <td>120000</td>\n",
       "      <td>148694</td>\n",
       "      <td>186000</td>\n",
       "    </tr>\n",
       "    <tr>\n",
       "      <th>10,000 Small Businesses</th>\n",
       "      <td>3.9</td>\n",
       "      <td>Data Scientist</td>\n",
       "      <td>1</td>\n",
       "      <td>NaN</td>\n",
       "      <td>118000</td>\n",
       "      <td>145508</td>\n",
       "      <td>182000</td>\n",
       "    </tr>\n",
       "    <tr>\n",
       "      <th>1010data</th>\n",
       "      <td>3.2</td>\n",
       "      <td>Data Scientist</td>\n",
       "      <td>15</td>\n",
       "      <td>NaN</td>\n",
       "      <td>143000</td>\n",
       "      <td>175118</td>\n",
       "      <td>218000</td>\n",
       "    </tr>\n",
       "    <tr>\n",
       "      <th>...</th>\n",
       "      <td>...</td>\n",
       "      <td>...</td>\n",
       "      <td>...</td>\n",
       "      <td>...</td>\n",
       "      <td>...</td>\n",
       "      <td>...</td>\n",
       "      <td>...</td>\n",
       "    </tr>\n",
       "    <tr>\n",
       "      <th>vidIQ</th>\n",
       "      <td>4.9</td>\n",
       "      <td>Data Scientist</td>\n",
       "      <td>1</td>\n",
       "      <td>3.0</td>\n",
       "      <td>166000</td>\n",
       "      <td>205723</td>\n",
       "      <td>260000</td>\n",
       "    </tr>\n",
       "    <tr>\n",
       "      <th>volpe</th>\n",
       "      <td>3.2</td>\n",
       "      <td>Data Scientist</td>\n",
       "      <td>2</td>\n",
       "      <td>15.0</td>\n",
       "      <td>96000</td>\n",
       "      <td>121446</td>\n",
       "      <td>154000</td>\n",
       "    </tr>\n",
       "    <tr>\n",
       "      <th>zData</th>\n",
       "      <td>4.2</td>\n",
       "      <td>Data Scientist</td>\n",
       "      <td>3</td>\n",
       "      <td>NaN</td>\n",
       "      <td>109000</td>\n",
       "      <td>136322</td>\n",
       "      <td>172000</td>\n",
       "    </tr>\n",
       "    <tr>\n",
       "      <th>zypmedia</th>\n",
       "      <td>3.7</td>\n",
       "      <td>Data Scientist</td>\n",
       "      <td>2</td>\n",
       "      <td>NaN</td>\n",
       "      <td>135000</td>\n",
       "      <td>168504</td>\n",
       "      <td>212000</td>\n",
       "    </tr>\n",
       "    <tr>\n",
       "      <th>Øptimus</th>\n",
       "      <td>4.5</td>\n",
       "      <td>Data Scientist</td>\n",
       "      <td>4</td>\n",
       "      <td>3.0</td>\n",
       "      <td>96000</td>\n",
       "      <td>122490</td>\n",
       "      <td>157000</td>\n",
       "    </tr>\n",
       "  </tbody>\n",
       "</table>\n",
       "<p>7450 rows × 7 columns</p>\n",
       "</div>"
      ],
      "text/plain": [
       "                         companyRating        position  sampleSize  openJobs  \\\n",
       "companyName                                                                    \n",
       "(no)name                           3.9  Data Scientist           3       NaN   \n",
       "+SUBSCRIBE                         5.0  Data Scientist           1       NaN   \n",
       "1-800-FLOWERS.COM, Inc.            3.1  Data Scientist           2      37.0   \n",
       "10,000 Small Businesses            3.9  Data Scientist           1       NaN   \n",
       "1010data                           3.2  Data Scientist          15       NaN   \n",
       "...                                ...             ...         ...       ...   \n",
       "vidIQ                              4.9  Data Scientist           1       3.0   \n",
       "volpe                              3.2  Data Scientist           2      15.0   \n",
       "zData                              4.2  Data Scientist           3       NaN   \n",
       "zypmedia                           3.7  Data Scientist           2       NaN   \n",
       "Øptimus                            4.5  Data Scientist           4       3.0   \n",
       "\n",
       "                         salaryLow  salaryMid  salaryHigh  \n",
       "companyName                                                \n",
       "(no)name                    102000     124853      154000  \n",
       "+SUBSCRIBE                  112000     140768      179000  \n",
       "1-800-FLOWERS.COM, Inc.     120000     148694      186000  \n",
       "10,000 Small Businesses     118000     145508      182000  \n",
       "1010data                    143000     175118      218000  \n",
       "...                            ...        ...         ...  \n",
       "vidIQ                       166000     205723      260000  \n",
       "volpe                        96000     121446      154000  \n",
       "zData                       109000     136322      172000  \n",
       "zypmedia                    135000     168504      212000  \n",
       "Øptimus                      96000     122490      157000  \n",
       "\n",
       "[7450 rows x 7 columns]"
      ]
     },
     "execution_count": 42,
     "metadata": {},
     "output_type": "execute_result"
    }
   ],
   "source": [
    "salaryDataframe = salaryDataframe.groupby(\"companyName\").first()\n",
    "salaryDataframe"
   ]
  },
  {
   "cell_type": "markdown",
   "id": "52b833aa",
   "metadata": {},
   "source": [
    "This concludes the data preparation phase and now data analysis can be conducted."
   ]
  },
  {
   "cell_type": "markdown",
   "id": "5b21514e",
   "metadata": {},
   "source": [
    "## Data Analysis"
   ]
  },
  {
   "cell_type": "markdown",
   "id": "8232c89b",
   "metadata": {},
   "source": [
    "What is the correlation between company rating and salary?"
   ]
  },
  {
   "cell_type": "code",
   "execution_count": 43,
   "id": "af060b65",
   "metadata": {},
   "outputs": [
    {
     "data": {
      "text/plain": [
       "<AxesSubplot:xlabel='companyRating', ylabel='salaryLow'>"
      ]
     },
     "execution_count": 43,
     "metadata": {},
     "output_type": "execute_result"
    },
    {
     "data": {
      "image/png": "[encoded data removed]",
      "text/plain": [
       "<Figure size 432x288 with 1 Axes>"
      ]
     },
     "metadata": {
      "needs_background": "light"
     },
     "output_type": "display_data"
    }
   ],
   "source": [
    "salaryDataframe.plot.scatter(x=\"companyRating\", y=\"salaryLow\")"
   ]
  },
  {
   "cell_type": "code",
   "execution_count": 44,
   "id": "f5fc020d",
   "metadata": {},
   "outputs": [
    {
     "data": {
      "text/html": [
       "<div>\n",
       "<style scoped>\n",
       "    .dataframe tbody tr th:only-of-type {\n",
       "        vertical-align: middle;\n",
       "    }\n",
       "\n",
       "    .dataframe tbody tr th {\n",
       "        vertical-align: top;\n",
       "    }\n",
       "\n",
       "    .dataframe thead th {\n",
       "        text-align: right;\n",
       "    }\n",
       "</style>\n",
       "<table border=\"1\" class=\"dataframe\">\n",
       "  <thead>\n",
       "    <tr style=\"text-align: right;\">\n",
       "      <th></th>\n",
       "      <th>companyRating</th>\n",
       "      <th>salaryLow</th>\n",
       "    </tr>\n",
       "  </thead>\n",
       "  <tbody>\n",
       "    <tr>\n",
       "      <th>companyRating</th>\n",
       "      <td>1.000000</td>\n",
       "      <td>0.036288</td>\n",
       "    </tr>\n",
       "    <tr>\n",
       "      <th>salaryLow</th>\n",
       "      <td>0.036288</td>\n",
       "      <td>1.000000</td>\n",
       "    </tr>\n",
       "  </tbody>\n",
       "</table>\n",
       "</div>"
      ],
      "text/plain": [
       "               companyRating  salaryLow\n",
       "companyRating       1.000000   0.036288\n",
       "salaryLow           0.036288   1.000000"
      ]
     },
     "execution_count": 44,
     "metadata": {},
     "output_type": "execute_result"
    }
   ],
   "source": [
    "salaryDataframe[[\"companyRating\", \"salaryLow\"]].corr(method=\"pearson\")"
   ]
  },
  {
   "cell_type": "code",
   "execution_count": 45,
   "id": "8300f6a7",
   "metadata": {},
   "outputs": [
    {
     "data": {
      "text/plain": [
       "<AxesSubplot:xlabel='companyRating', ylabel='salaryMid'>"
      ]
     },
     "execution_count": 45,
     "metadata": {},
     "output_type": "execute_result"
    },
    {
     "data": {
      "image/png": "[encoded data removed]",
      "text/plain": [
       "<Figure size 432x288 with 1 Axes>"
      ]
     },
     "metadata": {
      "needs_background": "light"
     },
     "output_type": "display_data"
    }
   ],
   "source": [
    "salaryDataframe.plot.scatter(x=\"companyRating\", y=\"salaryMid\")"
   ]
  },
  {
   "cell_type": "code",
   "execution_count": 46,
   "id": "9310930a",
   "metadata": {},
   "outputs": [
    {
     "data": {
      "text/html": [
       "<div>\n",
       "<style scoped>\n",
       "    .dataframe tbody tr th:only-of-type {\n",
       "        vertical-align: middle;\n",
       "    }\n",
       "\n",
       "    .dataframe tbody tr th {\n",
       "        vertical-align: top;\n",
       "    }\n",
       "\n",
       "    .dataframe thead th {\n",
       "        text-align: right;\n",
       "    }\n",
       "</style>\n",
       "<table border=\"1\" class=\"dataframe\">\n",
       "  <thead>\n",
       "    <tr style=\"text-align: right;\">\n",
       "      <th></th>\n",
       "      <th>companyRating</th>\n",
       "      <th>salaryMid</th>\n",
       "    </tr>\n",
       "  </thead>\n",
       "  <tbody>\n",
       "    <tr>\n",
       "      <th>companyRating</th>\n",
       "      <td>1.000000</td>\n",
       "      <td>0.039133</td>\n",
       "    </tr>\n",
       "    <tr>\n",
       "      <th>salaryMid</th>\n",
       "      <td>0.039133</td>\n",
       "      <td>1.000000</td>\n",
       "    </tr>\n",
       "  </tbody>\n",
       "</table>\n",
       "</div>"
      ],
      "text/plain": [
       "               companyRating  salaryMid\n",
       "companyRating       1.000000   0.039133\n",
       "salaryMid           0.039133   1.000000"
      ]
     },
     "execution_count": 46,
     "metadata": {},
     "output_type": "execute_result"
    }
   ],
   "source": [
    "salaryDataframe[[\"companyRating\", \"salaryMid\"]].corr(method=\"pearson\")"
   ]
  },
  {
   "cell_type": "code",
   "execution_count": 47,
   "id": "a5b944b1",
   "metadata": {},
   "outputs": [
    {
     "data": {
      "text/plain": [
       "<AxesSubplot:xlabel='companyRating', ylabel='salaryHigh'>"
      ]
     },
     "execution_count": 47,
     "metadata": {},
     "output_type": "execute_result"
    },
    {
     "data": {
      "image/png": "[encoded data removed]",
      "text/plain": [
       "<Figure size 432x288 with 1 Axes>"
      ]
     },
     "metadata": {
      "needs_background": "light"
     },
     "output_type": "display_data"
    }
   ],
   "source": [
    "salaryDataframe.plot.scatter(x=\"companyRating\", y=\"salaryHigh\")"
   ]
  },
  {
   "cell_type": "code",
   "execution_count": 48,
   "id": "0283910c",
   "metadata": {},
   "outputs": [
    {
     "data": {
      "text/html": [
       "<div>\n",
       "<style scoped>\n",
       "    .dataframe tbody tr th:only-of-type {\n",
       "        vertical-align: middle;\n",
       "    }\n",
       "\n",
       "    .dataframe tbody tr th {\n",
       "        vertical-align: top;\n",
       "    }\n",
       "\n",
       "    .dataframe thead th {\n",
       "        text-align: right;\n",
       "    }\n",
       "</style>\n",
       "<table border=\"1\" class=\"dataframe\">\n",
       "  <thead>\n",
       "    <tr style=\"text-align: right;\">\n",
       "      <th></th>\n",
       "      <th>companyRating</th>\n",
       "      <th>salaryHigh</th>\n",
       "    </tr>\n",
       "  </thead>\n",
       "  <tbody>\n",
       "    <tr>\n",
       "      <th>companyRating</th>\n",
       "      <td>1.000000</td>\n",
       "      <td>0.041412</td>\n",
       "    </tr>\n",
       "    <tr>\n",
       "      <th>salaryHigh</th>\n",
       "      <td>0.041412</td>\n",
       "      <td>1.000000</td>\n",
       "    </tr>\n",
       "  </tbody>\n",
       "</table>\n",
       "</div>"
      ],
      "text/plain": [
       "               companyRating  salaryHigh\n",
       "companyRating       1.000000    0.041412\n",
       "salaryHigh          0.041412    1.000000"
      ]
     },
     "execution_count": 48,
     "metadata": {},
     "output_type": "execute_result"
    }
   ],
   "source": [
    "salaryDataframe[[\"companyRating\", \"salaryHigh\"]].corr(method=\"pearson\")"
   ]
  },
  {
   "cell_type": "markdown",
   "id": "cdbd97ab",
   "metadata": {},
   "source": [
    "There is no correlation between company rating and salary. Thus, a higher company rating does not mean that the salary will be higher."
   ]
  },
  {
   "cell_type": "markdown",
   "id": "8d91483c",
   "metadata": {},
   "source": [
    "Is there any correlation between the sample size and salary?"
   ]
  },
  {
   "cell_type": "code",
   "execution_count": 49,
   "id": "38652110",
   "metadata": {},
   "outputs": [
    {
     "data": {
      "text/plain": [
       "<AxesSubplot:xlabel='sampleSize', ylabel='salaryLow'>"
      ]
     },
     "execution_count": 49,
     "metadata": {},
     "output_type": "execute_result"
    },
    {
     "data": {
      "image/png": "[encoded data removed]",
      "text/plain": [
       "<Figure size 432x288 with 1 Axes>"
      ]
     },
     "metadata": {
      "needs_background": "light"
     },
     "output_type": "display_data"
    }
   ],
   "source": [
    "salaryDataframe.plot.scatter(x=\"sampleSize\", y=\"salaryLow\")"
   ]
  },
  {
   "cell_type": "code",
   "execution_count": 50,
   "id": "031c5aed",
   "metadata": {},
   "outputs": [
    {
     "data": {
      "text/html": [
       "<div>\n",
       "<style scoped>\n",
       "    .dataframe tbody tr th:only-of-type {\n",
       "        vertical-align: middle;\n",
       "    }\n",
       "\n",
       "    .dataframe tbody tr th {\n",
       "        vertical-align: top;\n",
       "    }\n",
       "\n",
       "    .dataframe thead th {\n",
       "        text-align: right;\n",
       "    }\n",
       "</style>\n",
       "<table border=\"1\" class=\"dataframe\">\n",
       "  <thead>\n",
       "    <tr style=\"text-align: right;\">\n",
       "      <th></th>\n",
       "      <th>sampleSize</th>\n",
       "      <th>salaryLow</th>\n",
       "    </tr>\n",
       "  </thead>\n",
       "  <tbody>\n",
       "    <tr>\n",
       "      <th>sampleSize</th>\n",
       "      <td>1.000000</td>\n",
       "      <td>0.124792</td>\n",
       "    </tr>\n",
       "    <tr>\n",
       "      <th>salaryLow</th>\n",
       "      <td>0.124792</td>\n",
       "      <td>1.000000</td>\n",
       "    </tr>\n",
       "  </tbody>\n",
       "</table>\n",
       "</div>"
      ],
      "text/plain": [
       "            sampleSize  salaryLow\n",
       "sampleSize    1.000000   0.124792\n",
       "salaryLow     0.124792   1.000000"
      ]
     },
     "execution_count": 50,
     "metadata": {},
     "output_type": "execute_result"
    }
   ],
   "source": [
    "salaryDataframe[[\"sampleSize\", \"salaryLow\"]].corr(method=\"pearson\")"
   ]
  },
  {
   "cell_type": "code",
   "execution_count": 51,
   "id": "7a6eb791",
   "metadata": {},
   "outputs": [
    {
     "data": {
      "text/plain": [
       "<AxesSubplot:xlabel='sampleSize', ylabel='salaryMid'>"
      ]
     },
     "execution_count": 51,
     "metadata": {},
     "output_type": "execute_result"
    },
    {
     "data": {
      "image/png": "[encoded data removed]",
      "text/plain": [
       "<Figure size 432x288 with 1 Axes>"
      ]
     },
     "metadata": {
      "needs_background": "light"
     },
     "output_type": "display_data"
    }
   ],
   "source": [
    "salaryDataframe.plot.scatter(x=\"sampleSize\", y=\"salaryMid\")"
   ]
  },
  {
   "cell_type": "code",
   "execution_count": 52,
   "id": "0dd95f25",
   "metadata": {},
   "outputs": [
    {
     "data": {
      "text/html": [
       "<div>\n",
       "<style scoped>\n",
       "    .dataframe tbody tr th:only-of-type {\n",
       "        vertical-align: middle;\n",
       "    }\n",
       "\n",
       "    .dataframe tbody tr th {\n",
       "        vertical-align: top;\n",
       "    }\n",
       "\n",
       "    .dataframe thead th {\n",
       "        text-align: right;\n",
       "    }\n",
       "</style>\n",
       "<table border=\"1\" class=\"dataframe\">\n",
       "  <thead>\n",
       "    <tr style=\"text-align: right;\">\n",
       "      <th></th>\n",
       "      <th>sampleSize</th>\n",
       "      <th>salaryMid</th>\n",
       "    </tr>\n",
       "  </thead>\n",
       "  <tbody>\n",
       "    <tr>\n",
       "      <th>sampleSize</th>\n",
       "      <td>1.000000</td>\n",
       "      <td>0.121043</td>\n",
       "    </tr>\n",
       "    <tr>\n",
       "      <th>salaryMid</th>\n",
       "      <td>0.121043</td>\n",
       "      <td>1.000000</td>\n",
       "    </tr>\n",
       "  </tbody>\n",
       "</table>\n",
       "</div>"
      ],
      "text/plain": [
       "            sampleSize  salaryMid\n",
       "sampleSize    1.000000   0.121043\n",
       "salaryMid     0.121043   1.000000"
      ]
     },
     "execution_count": 52,
     "metadata": {},
     "output_type": "execute_result"
    }
   ],
   "source": [
    "salaryDataframe[[\"sampleSize\", \"salaryMid\"]].corr(method=\"pearson\")"
   ]
  },
  {
   "cell_type": "code",
   "execution_count": 53,
   "id": "f4acc5e5",
   "metadata": {},
   "outputs": [
    {
     "data": {
      "text/plain": [
       "<AxesSubplot:xlabel='sampleSize', ylabel='salaryHigh'>"
      ]
     },
     "execution_count": 53,
     "metadata": {},
     "output_type": "execute_result"
    },
    {
     "data": {
      "image/png": "[encoded data removed]",
      "text/plain": [
       "<Figure size 432x288 with 1 Axes>"
      ]
     },
     "metadata": {
      "needs_background": "light"
     },
     "output_type": "display_data"
    }
   ],
   "source": [
    "salaryDataframe.plot.scatter(x=\"sampleSize\", y=\"salaryHigh\")"
   ]
  },
  {
   "cell_type": "code",
   "execution_count": 54,
   "id": "0544ab35",
   "metadata": {},
   "outputs": [
    {
     "data": {
      "text/html": [
       "<div>\n",
       "<style scoped>\n",
       "    .dataframe tbody tr th:only-of-type {\n",
       "        vertical-align: middle;\n",
       "    }\n",
       "\n",
       "    .dataframe tbody tr th {\n",
       "        vertical-align: top;\n",
       "    }\n",
       "\n",
       "    .dataframe thead th {\n",
       "        text-align: right;\n",
       "    }\n",
       "</style>\n",
       "<table border=\"1\" class=\"dataframe\">\n",
       "  <thead>\n",
       "    <tr style=\"text-align: right;\">\n",
       "      <th></th>\n",
       "      <th>sampleSize</th>\n",
       "      <th>salaryHigh</th>\n",
       "    </tr>\n",
       "  </thead>\n",
       "  <tbody>\n",
       "    <tr>\n",
       "      <th>sampleSize</th>\n",
       "      <td>1.000000</td>\n",
       "      <td>0.116718</td>\n",
       "    </tr>\n",
       "    <tr>\n",
       "      <th>salaryHigh</th>\n",
       "      <td>0.116718</td>\n",
       "      <td>1.000000</td>\n",
       "    </tr>\n",
       "  </tbody>\n",
       "</table>\n",
       "</div>"
      ],
      "text/plain": [
       "            sampleSize  salaryHigh\n",
       "sampleSize    1.000000    0.116718\n",
       "salaryHigh    0.116718    1.000000"
      ]
     },
     "execution_count": 54,
     "metadata": {},
     "output_type": "execute_result"
    }
   ],
   "source": [
    "salaryDataframe[[\"sampleSize\", \"salaryHigh\"]].corr(method=\"pearson\")"
   ]
  },
  {
   "cell_type": "markdown",
   "id": "e6caf596",
   "metadata": {},
   "source": [
    "There is also no correlation between sample size and salary. A larger sample size is an indication that the company is larger in size. Thus, a larger company size does not mean that the salary will be higher."
   ]
  },
  {
   "cell_type": "markdown",
   "id": "8989e3fe",
   "metadata": {},
   "source": [
    "What is the total sample size in the dataset?"
   ]
  },
  {
   "cell_type": "code",
   "execution_count": 55,
   "id": "24221ada",
   "metadata": {},
   "outputs": [
    {
     "data": {
      "text/plain": [
       "32643"
      ]
     },
     "execution_count": 55,
     "metadata": {},
     "output_type": "execute_result"
    }
   ],
   "source": [
    "sum(salaryDataframe.sampleSize)"
   ]
  },
  {
   "cell_type": "markdown",
   "id": "f4752a3e",
   "metadata": {},
   "source": [
    "What are the averages of the salary lows, mids, and highs?"
   ]
  },
  {
   "cell_type": "code",
   "execution_count": 56,
   "id": "587bfdbc",
   "metadata": {},
   "outputs": [
    {
     "data": {
      "text/plain": [
       "113782.72751677853"
      ]
     },
     "execution_count": 56,
     "metadata": {},
     "output_type": "execute_result"
    }
   ],
   "source": [
    "# average of salary low\n",
    "salaryDataframe.salaryLow.mean()"
   ]
  },
  {
   "cell_type": "code",
   "execution_count": 57,
   "id": "b9b5cb58",
   "metadata": {},
   "outputs": [
    {
     "data": {
      "text/plain": [
       "140558.92738255035"
      ]
     },
     "execution_count": 57,
     "metadata": {},
     "output_type": "execute_result"
    }
   ],
   "source": [
    "# average of salary mid\n",
    "salaryDataframe.salaryMid.mean()"
   ]
  },
  {
   "cell_type": "code",
   "execution_count": 58,
   "id": "5605e15b",
   "metadata": {},
   "outputs": [
    {
     "data": {
      "text/plain": [
       "175731.25369127517"
      ]
     },
     "execution_count": 58,
     "metadata": {},
     "output_type": "execute_result"
    }
   ],
   "source": [
    "# average of salary high\n",
    "salaryDataframe.salaryHigh.mean()"
   ]
  },
  {
   "cell_type": "markdown",
   "id": "1d2bbdfe",
   "metadata": {},
   "source": [
    "<u> resources </u>  \n",
    "https://www.youtube.com/watch?v=Xjv1sY630Uc  \n",
    "https://stackoverflow.com/questions/64717302/deprecationwarning-executable-path-has-been-deprecated-selenium-python  \n",
    "https://pythonbasics.org/selenium-get-html/  \n",
    "https://stackabuse.com/guide-to-parsing-html-with-beautifulsoup-in-python/"
   ]
  }
 ],
 "metadata": {
  "kernelspec": {
   "display_name": "Python 3 (ipykernel)",
   "language": "python",
   "name": "python3"
  },
  "language_info": {
   "codemirror_mode": {
    "name": "ipython",
    "version": 3
   },
   "file_extension": ".py",
   "mimetype": "text/x-python",
   "name": "python",
   "nbconvert_exporter": "python",
   "pygments_lexer": "ipython3",
   "version": "3.9.12"
  }
 },
 "nbformat": 4,
 "nbformat_minor": 5
}
